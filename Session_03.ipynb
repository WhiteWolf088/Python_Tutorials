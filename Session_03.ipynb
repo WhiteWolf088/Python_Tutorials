{
  "nbformat": 4,
  "nbformat_minor": 0,
  "metadata": {
    "colab": {
      "name": "Session_03.ipynb",
      "provenance": [],
      "collapsed_sections": [],
      "include_colab_link": true
    },
    "kernelspec": {
      "name": "python3",
      "display_name": "Python 3"
    },
    "language_info": {
      "name": "python"
    }
  },
  "cells": [
    {
      "cell_type": "markdown",
      "metadata": {
        "id": "view-in-github",
        "colab_type": "text"
      },
      "source": [
        "<a href=\"https://colab.research.google.com/github/WhiteWolf088/Python_Tutorials/blob/main/Session_03.ipynb\" target=\"_parent\"><img src=\"https://colab.research.google.com/assets/colab-badge.svg\" alt=\"Open In Colab\"/></a>"
      ]
    },
    {
      "cell_type": "code",
      "metadata": {
        "colab": {
          "base_uri": "https://localhost:8080/"
        },
        "id": "xijKYCaDgXmJ",
        "outputId": "2d4a255a-2b25-49f4-a443-888f0a2eaeb6"
      },
      "source": [
        "weight = float(input(\"Enter your weight :\"))\n",
        "unit = input(\"(k) kgs or (l) LBS \")\n",
        "\n",
        "if unit == \"k\":\n",
        "  convert = weight*2\n",
        "  print(f\"You are {convert} pounds\")\n",
        "elif unit == \"l\":\n",
        "  convert = weight/2\n",
        "  print(f\"You are {convert} kilos\")\n",
        "else:\n",
        "  print(\"Invalid!\")"
      ],
      "execution_count": 103,
      "outputs": [
        {
          "output_type": "stream",
          "name": "stdout",
          "text": [
            "Enter your weight :75\n",
            "(k) kgs or (l) LBS k\n",
            "You are 150.0 pounds\n"
          ]
        }
      ]
    },
    {
      "cell_type": "code",
      "metadata": {
        "colab": {
          "base_uri": "https://localhost:8080/"
        },
        "id": "f9_BocU_hVDw",
        "outputId": "e9b091f1-5591-4f90-c2b1-86964e20449a"
      },
      "source": [
        "fruits = ['mango', 'apple','orange']  #LIST 1\n",
        "fruits"
      ],
      "execution_count": 104,
      "outputs": [
        {
          "output_type": "execute_result",
          "data": {
            "text/plain": [
              "['mango', 'apple', 'orange']"
            ]
          },
          "metadata": {},
          "execution_count": 104
        }
      ]
    },
    {
      "cell_type": "code",
      "metadata": {
        "colab": {
          "base_uri": "https://localhost:8080/"
        },
        "id": "gNuGj3LqiE9a",
        "outputId": "8723e897-d766-4da5-f6f8-1e7ef509104b"
      },
      "source": [
        "#list.append(element)\n",
        "fruits.append('grapes')\n",
        "fruits"
      ],
      "execution_count": 105,
      "outputs": [
        {
          "output_type": "execute_result",
          "data": {
            "text/plain": [
              "['mango', 'apple', 'orange', 'grapes']"
            ]
          },
          "metadata": {},
          "execution_count": 105
        }
      ]
    },
    {
      "cell_type": "code",
      "metadata": {
        "id": "EEbvkIFMiQsT"
      },
      "source": [
        "fruits.insert(2,'watermelon')"
      ],
      "execution_count": 106,
      "outputs": []
    },
    {
      "cell_type": "code",
      "metadata": {
        "colab": {
          "base_uri": "https://localhost:8080/"
        },
        "id": "mTsJyBe1igPT",
        "outputId": "869fa8e3-51d2-4f36-e4c7-2fb41ee07aeb"
      },
      "source": [
        "fruits"
      ],
      "execution_count": 107,
      "outputs": [
        {
          "output_type": "execute_result",
          "data": {
            "text/plain": [
              "['mango', 'apple', 'watermelon', 'orange', 'grapes']"
            ]
          },
          "metadata": {},
          "execution_count": 107
        }
      ]
    },
    {
      "cell_type": "code",
      "metadata": {
        "colab": {
          "base_uri": "https://localhost:8080/"
        },
        "id": "sSDMS8NSisYV",
        "outputId": "ae5bdb7d-6184-4bb8-c353-acc36f3dd479"
      },
      "source": [
        "veggies = ['potato' , 'onions', 'tomato']  #list 2\n",
        "veggies"
      ],
      "execution_count": 108,
      "outputs": [
        {
          "output_type": "execute_result",
          "data": {
            "text/plain": [
              "['potato', 'onions', 'tomato']"
            ]
          },
          "metadata": {},
          "execution_count": 108
        }
      ]
    },
    {
      "cell_type": "code",
      "metadata": {
        "id": "coGh4FVbi7_C",
        "colab": {
          "base_uri": "https://localhost:8080/"
        },
        "outputId": "04cdf070-bdeb-4534-9c1b-31d9619b3e17"
      },
      "source": [
        "fruits.extend(veggies)\n",
        "fruits"
      ],
      "execution_count": 109,
      "outputs": [
        {
          "output_type": "execute_result",
          "data": {
            "text/plain": [
              "['mango',\n",
              " 'apple',\n",
              " 'watermelon',\n",
              " 'orange',\n",
              " 'grapes',\n",
              " 'potato',\n",
              " 'onions',\n",
              " 'tomato']"
            ]
          },
          "metadata": {},
          "execution_count": 109
        }
      ]
    },
    {
      "cell_type": "code",
      "metadata": {
        "colab": {
          "base_uri": "https://localhost:8080/"
        },
        "id": "ji7DmnxJjCCm",
        "outputId": "ed6f5808-99a0-4eec-dd1a-772dca5ae7f6"
      },
      "source": [
        "fruits + veggies"
      ],
      "execution_count": 110,
      "outputs": [
        {
          "output_type": "execute_result",
          "data": {
            "text/plain": [
              "['mango',\n",
              " 'apple',\n",
              " 'watermelon',\n",
              " 'orange',\n",
              " 'grapes',\n",
              " 'potato',\n",
              " 'onions',\n",
              " 'tomato',\n",
              " 'potato',\n",
              " 'onions',\n",
              " 'tomato']"
            ]
          },
          "metadata": {},
          "execution_count": 110
        }
      ]
    },
    {
      "cell_type": "code",
      "metadata": {
        "colab": {
          "base_uri": "https://localhost:8080/"
        },
        "id": "avll8MWqjPU1",
        "outputId": "7e707469-3a57-4f8b-f84b-65fb14b24884"
      },
      "source": [
        "fruits * 3  "
      ],
      "execution_count": 111,
      "outputs": [
        {
          "output_type": "execute_result",
          "data": {
            "text/plain": [
              "['mango',\n",
              " 'apple',\n",
              " 'watermelon',\n",
              " 'orange',\n",
              " 'grapes',\n",
              " 'potato',\n",
              " 'onions',\n",
              " 'tomato',\n",
              " 'mango',\n",
              " 'apple',\n",
              " 'watermelon',\n",
              " 'orange',\n",
              " 'grapes',\n",
              " 'potato',\n",
              " 'onions',\n",
              " 'tomato',\n",
              " 'mango',\n",
              " 'apple',\n",
              " 'watermelon',\n",
              " 'orange',\n",
              " 'grapes',\n",
              " 'potato',\n",
              " 'onions',\n",
              " 'tomato']"
            ]
          },
          "metadata": {},
          "execution_count": 111
        }
      ]
    },
    {
      "cell_type": "code",
      "metadata": {
        "id": "VRWIbk1tjsaN"
      },
      "source": [
        "fruits.reverse()"
      ],
      "execution_count": 112,
      "outputs": []
    },
    {
      "cell_type": "code",
      "metadata": {
        "colab": {
          "base_uri": "https://localhost:8080/"
        },
        "id": "fy-2jE4lkJtP",
        "outputId": "a6e8b9ca-9f17-4a32-9a94-5e6c328f0977"
      },
      "source": [
        "fruits"
      ],
      "execution_count": 113,
      "outputs": [
        {
          "output_type": "execute_result",
          "data": {
            "text/plain": [
              "['tomato',\n",
              " 'onions',\n",
              " 'potato',\n",
              " 'grapes',\n",
              " 'orange',\n",
              " 'watermelon',\n",
              " 'apple',\n",
              " 'mango']"
            ]
          },
          "metadata": {},
          "execution_count": 113
        }
      ]
    },
    {
      "cell_type": "code",
      "metadata": {
        "id": "Vdyj88y6kOQu"
      },
      "source": [
        "fruits.remove('mango')"
      ],
      "execution_count": 114,
      "outputs": []
    },
    {
      "cell_type": "code",
      "metadata": {
        "colab": {
          "base_uri": "https://localhost:8080/"
        },
        "id": "qOje2DfZka6f",
        "outputId": "b7eeaf6b-8640-465d-ee4e-8b091e2620f0"
      },
      "source": [
        "fruits"
      ],
      "execution_count": 115,
      "outputs": [
        {
          "output_type": "execute_result",
          "data": {
            "text/plain": [
              "['tomato', 'onions', 'potato', 'grapes', 'orange', 'watermelon', 'apple']"
            ]
          },
          "metadata": {},
          "execution_count": 115
        }
      ]
    },
    {
      "cell_type": "code",
      "metadata": {
        "colab": {
          "base_uri": "https://localhost:8080/"
        },
        "id": "PUvYVukDkb72",
        "outputId": "db7e1386-b4bd-445a-8e8a-cf981c8c5c20"
      },
      "source": [
        "fruits.index('orange')"
      ],
      "execution_count": 116,
      "outputs": [
        {
          "output_type": "execute_result",
          "data": {
            "text/plain": [
              "4"
            ]
          },
          "metadata": {},
          "execution_count": 116
        }
      ]
    },
    {
      "cell_type": "code",
      "metadata": {
        "colab": {
          "base_uri": "https://localhost:8080/"
        },
        "id": "JnHio1w_kkja",
        "outputId": "b6f05d7d-d36e-44c0-9e41-01a52bd46a3d"
      },
      "source": [
        "fruits.index('watermelon')"
      ],
      "execution_count": 117,
      "outputs": [
        {
          "output_type": "execute_result",
          "data": {
            "text/plain": [
              "5"
            ]
          },
          "metadata": {},
          "execution_count": 117
        }
      ]
    },
    {
      "cell_type": "code",
      "metadata": {
        "id": "Rbgs1a0fkpS9"
      },
      "source": [
        "fruits.sort()"
      ],
      "execution_count": 118,
      "outputs": []
    },
    {
      "cell_type": "code",
      "metadata": {
        "colab": {
          "base_uri": "https://localhost:8080/"
        },
        "id": "sKGDarmRkukQ",
        "outputId": "cc3421ce-face-4c48-e407-22c9d3f842b6"
      },
      "source": [
        "fruits"
      ],
      "execution_count": 119,
      "outputs": [
        {
          "output_type": "execute_result",
          "data": {
            "text/plain": [
              "['apple', 'grapes', 'onions', 'orange', 'potato', 'tomato', 'watermelon']"
            ]
          },
          "metadata": {},
          "execution_count": 119
        }
      ]
    },
    {
      "cell_type": "code",
      "metadata": {
        "colab": {
          "base_uri": "https://localhost:8080/"
        },
        "id": "k59_QiV4lipm",
        "outputId": "44136fbe-7f12-4d3f-81b9-56b60f824562"
      },
      "source": [
        "fruits"
      ],
      "execution_count": 120,
      "outputs": [
        {
          "output_type": "execute_result",
          "data": {
            "text/plain": [
              "['apple', 'grapes', 'onions', 'orange', 'potato', 'tomato', 'watermelon']"
            ]
          },
          "metadata": {},
          "execution_count": 120
        }
      ]
    },
    {
      "cell_type": "code",
      "metadata": {
        "colab": {
          "base_uri": "https://localhost:8080/",
          "height": 35
        },
        "id": "C_LPlKqXnKFx",
        "outputId": "d8b53012-8e53-4dc7-d2ab-8cde1035dc94"
      },
      "source": [
        "fruits.pop(0)"
      ],
      "execution_count": 121,
      "outputs": [
        {
          "output_type": "execute_result",
          "data": {
            "application/vnd.google.colaboratory.intrinsic+json": {
              "type": "string"
            },
            "text/plain": [
              "'apple'"
            ]
          },
          "metadata": {},
          "execution_count": 121
        }
      ]
    },
    {
      "cell_type": "code",
      "metadata": {
        "colab": {
          "base_uri": "https://localhost:8080/"
        },
        "id": "1pQ9yMxmnOrS",
        "outputId": "be08fb8a-87e5-4bbe-e3bf-9d3cf68a3bf2"
      },
      "source": [
        "fruits"
      ],
      "execution_count": 122,
      "outputs": [
        {
          "output_type": "execute_result",
          "data": {
            "text/plain": [
              "['grapes', 'onions', 'orange', 'potato', 'tomato', 'watermelon']"
            ]
          },
          "metadata": {},
          "execution_count": 122
        }
      ]
    },
    {
      "cell_type": "code",
      "metadata": {
        "colab": {
          "base_uri": "https://localhost:8080/"
        },
        "id": "WF8g7fW4nP4x",
        "outputId": "2f418660-7163-4751-9b19-1e8ce2d59210"
      },
      "source": [
        "fruits1 = [\"Apple\", \"banana\",\"apple\",\"grapes\"]\n",
        "fruits1"
      ],
      "execution_count": 123,
      "outputs": [
        {
          "output_type": "execute_result",
          "data": {
            "text/plain": [
              "['Apple', 'banana', 'apple', 'grapes']"
            ]
          },
          "metadata": {},
          "execution_count": 123
        }
      ]
    },
    {
      "cell_type": "code",
      "metadata": {
        "id": "3yvjuQVxniwF"
      },
      "source": [
        "fruits1.sort()"
      ],
      "execution_count": 124,
      "outputs": []
    },
    {
      "cell_type": "code",
      "metadata": {
        "colab": {
          "base_uri": "https://localhost:8080/"
        },
        "id": "6g6Jn_XUnj0q",
        "outputId": "4d47d446-b774-4a9b-cb1d-9e3de0be796c"
      },
      "source": [
        "fruits1  #AaBbCcDd (for the sorting)"
      ],
      "execution_count": 125,
      "outputs": [
        {
          "output_type": "execute_result",
          "data": {
            "text/plain": [
              "['Apple', 'apple', 'banana', 'grapes']"
            ]
          },
          "metadata": {},
          "execution_count": 125
        }
      ]
    },
    {
      "cell_type": "code",
      "metadata": {
        "colab": {
          "base_uri": "https://localhost:8080/"
        },
        "id": "HrMW-yuxn_MN",
        "outputId": "6c63f974-1a4a-4684-c83e-237ebb0c8f31"
      },
      "source": [
        "type(fruits)"
      ],
      "execution_count": 126,
      "outputs": [
        {
          "output_type": "execute_result",
          "data": {
            "text/plain": [
              "list"
            ]
          },
          "metadata": {},
          "execution_count": 126
        }
      ]
    },
    {
      "cell_type": "code",
      "metadata": {
        "colab": {
          "base_uri": "https://localhost:8080/"
        },
        "id": "1E1PA71Onkpf",
        "outputId": "0395b461-1aef-4f4e-96ce-6c7c4753d542"
      },
      "source": [
        "a = [1,2,3,4,5]\n",
        "a"
      ],
      "execution_count": 127,
      "outputs": [
        {
          "output_type": "execute_result",
          "data": {
            "text/plain": [
              "[1, 2, 3, 4, 5]"
            ]
          },
          "metadata": {},
          "execution_count": 127
        }
      ]
    },
    {
      "cell_type": "code",
      "metadata": {
        "colab": {
          "base_uri": "https://localhost:8080/"
        },
        "id": "WnBUVdXjn88j",
        "outputId": "473fa24b-8390-410b-8522-0a67331554be"
      },
      "source": [
        "type(a)"
      ],
      "execution_count": 128,
      "outputs": [
        {
          "output_type": "execute_result",
          "data": {
            "text/plain": [
              "list"
            ]
          },
          "metadata": {},
          "execution_count": 128
        }
      ]
    },
    {
      "cell_type": "code",
      "metadata": {
        "id": "_hJ6ae4mn-Dl"
      },
      "source": [
        "a.append(6)"
      ],
      "execution_count": 129,
      "outputs": []
    },
    {
      "cell_type": "code",
      "metadata": {
        "colab": {
          "base_uri": "https://localhost:8080/"
        },
        "id": "qQ0wZKWgoE7Y",
        "outputId": "fc8a8522-10a6-462e-e38c-7a16853a8c12"
      },
      "source": [
        "a"
      ],
      "execution_count": 130,
      "outputs": [
        {
          "output_type": "execute_result",
          "data": {
            "text/plain": [
              "[1, 2, 3, 4, 5, 6]"
            ]
          },
          "metadata": {},
          "execution_count": 130
        }
      ]
    },
    {
      "cell_type": "code",
      "metadata": {
        "colab": {
          "base_uri": "https://localhost:8080/"
        },
        "id": "ugx4TRNgoFgW",
        "outputId": "75e4c058-bc0b-4d04-f705-c71c2703e07b"
      },
      "source": [
        "b = [5,6,4,7,8,9]\n",
        "b"
      ],
      "execution_count": 131,
      "outputs": [
        {
          "output_type": "execute_result",
          "data": {
            "text/plain": [
              "[5, 6, 4, 7, 8, 9]"
            ]
          },
          "metadata": {},
          "execution_count": 131
        }
      ]
    },
    {
      "cell_type": "code",
      "metadata": {
        "colab": {
          "base_uri": "https://localhost:8080/"
        },
        "id": "SRWAoX3goN3_",
        "outputId": "3b9e6a0b-0cc3-4968-be30-2b0f3d23a74f"
      },
      "source": [
        "c = a + b\n",
        "c\n"
      ],
      "execution_count": 132,
      "outputs": [
        {
          "output_type": "execute_result",
          "data": {
            "text/plain": [
              "[1, 2, 3, 4, 5, 6, 5, 6, 4, 7, 8, 9]"
            ]
          },
          "metadata": {},
          "execution_count": 132
        }
      ]
    },
    {
      "cell_type": "code",
      "metadata": {
        "id": "M4WBMFK9oQmd"
      },
      "source": [
        "c.sort()"
      ],
      "execution_count": 133,
      "outputs": []
    },
    {
      "cell_type": "code",
      "metadata": {
        "colab": {
          "base_uri": "https://localhost:8080/"
        },
        "id": "OKYYdNw_oXuN",
        "outputId": "280d795e-00b0-4a1d-ddc2-9d4e9c503c17"
      },
      "source": [
        "c"
      ],
      "execution_count": 134,
      "outputs": [
        {
          "output_type": "execute_result",
          "data": {
            "text/plain": [
              "[1, 2, 3, 4, 4, 5, 5, 6, 6, 7, 8, 9]"
            ]
          },
          "metadata": {},
          "execution_count": 134
        }
      ]
    },
    {
      "cell_type": "code",
      "metadata": {
        "id": "RbJLUdjCoYgW"
      },
      "source": [
        "d = ['grapes',1]"
      ],
      "execution_count": 135,
      "outputs": []
    },
    {
      "cell_type": "code",
      "metadata": {
        "colab": {
          "base_uri": "https://localhost:8080/"
        },
        "id": "QwLoNaFWois9",
        "outputId": "38616e55-19cd-4253-e953-635f42e3f986"
      },
      "source": [
        "d"
      ],
      "execution_count": 136,
      "outputs": [
        {
          "output_type": "execute_result",
          "data": {
            "text/plain": [
              "['grapes', 1]"
            ]
          },
          "metadata": {},
          "execution_count": 136
        }
      ]
    },
    {
      "cell_type": "code",
      "metadata": {
        "id": "9uKtoOj8p6kr"
      },
      "source": [
        "# d.sort() --> It Gives you Error\n",
        "# Sorting Doesn't Work in lists or Tuples"
      ],
      "execution_count": 137,
      "outputs": []
    },
    {
      "cell_type": "code",
      "metadata": {
        "id": "KFCLwggXpEek"
      },
      "source": [
        "a = [1,2,3]\n",
        "b = [1,2,3]"
      ],
      "execution_count": 138,
      "outputs": []
    },
    {
      "cell_type": "code",
      "metadata": {
        "colab": {
          "base_uri": "https://localhost:8080/"
        },
        "id": "dKHmmoO6pJRW",
        "outputId": "3a8293be-7dcb-4da5-a257-a8acbcdf510f"
      },
      "source": [
        "a[0]+b[2]"
      ],
      "execution_count": 139,
      "outputs": [
        {
          "output_type": "execute_result",
          "data": {
            "text/plain": [
              "4"
            ]
          },
          "metadata": {},
          "execution_count": 139
        }
      ]
    },
    {
      "cell_type": "code",
      "metadata": {
        "id": "qtBq1G8RojbQ"
      },
      "source": [
        "a = [1,2,3,4,5]"
      ],
      "execution_count": 140,
      "outputs": []
    },
    {
      "cell_type": "code",
      "metadata": {
        "colab": {
          "base_uri": "https://localhost:8080/"
        },
        "id": "VgImBLUCorg3",
        "outputId": "e610bdb3-0fe3-44fe-b20e-5a5fbe053b97"
      },
      "source": [
        "a"
      ],
      "execution_count": 141,
      "outputs": [
        {
          "output_type": "execute_result",
          "data": {
            "text/plain": [
              "[1, 2, 3, 4, 5]"
            ]
          },
          "metadata": {},
          "execution_count": 141
        }
      ]
    },
    {
      "cell_type": "code",
      "metadata": {
        "colab": {
          "base_uri": "https://localhost:8080/"
        },
        "id": "ZYOu0O4FosFx",
        "outputId": "4aad6fc8-e0e2-4280-9025-741110a64c66"
      },
      "source": [
        "type(a)"
      ],
      "execution_count": 142,
      "outputs": [
        {
          "output_type": "execute_result",
          "data": {
            "text/plain": [
              "list"
            ]
          },
          "metadata": {},
          "execution_count": 142
        }
      ]
    },
    {
      "cell_type": "code",
      "metadata": {
        "id": "KBS1Q1o2otuV"
      },
      "source": [
        "a.append(8)  # TUPLES ARE IMMUTABLE "
      ],
      "execution_count": 143,
      "outputs": []
    },
    {
      "cell_type": "code",
      "metadata": {
        "id": "azCpaK7_ozNy"
      },
      "source": [
        "a.insert(0,8)"
      ],
      "execution_count": 144,
      "outputs": []
    },
    {
      "cell_type": "code",
      "metadata": {
        "colab": {
          "base_uri": "https://localhost:8080/"
        },
        "id": "_bxxWhrvqMfY",
        "outputId": "23ec1189-7789-4e72-d304-f4ac7ed25a7c"
      },
      "source": [
        "a"
      ],
      "execution_count": 145,
      "outputs": [
        {
          "output_type": "execute_result",
          "data": {
            "text/plain": [
              "[8, 1, 2, 3, 4, 5, 8]"
            ]
          },
          "metadata": {},
          "execution_count": 145
        }
      ]
    },
    {
      "cell_type": "markdown",
      "metadata": {
        "id": "D9059AwdT190"
      },
      "source": [
        "# Loops\n",
        "\n",
        "* a loop is a sequence of instruction s that is continually repeated until a certain condition is reached. Typically, a certain process is done, such as getting an item of data and changing it, and then some condition is checked such as whether a counter has reached a prescribed number."
      ]
    },
    {
      "cell_type": "markdown",
      "metadata": {
        "id": "idsqHNe2URAh"
      },
      "source": [
        "## Types of Loops in Python\n",
        "* There are Two Types of Loops in Python: \n",
        "1. while loop\n",
        "2. for loop"
      ]
    },
    {
      "cell_type": "markdown",
      "metadata": {
        "id": "sGPBIvKEVDG9"
      },
      "source": [
        "### While loop"
      ]
    },
    {
      "cell_type": "code",
      "metadata": {
        "id": "kkm5eMUzq6sJ",
        "colab": {
          "base_uri": "https://localhost:8080/"
        },
        "outputId": "72d06582-6675-450e-9f94-ff0b58539337"
      },
      "source": [
        "a = 0\n",
        "while(a <= 10):\n",
        "  print(a)\n",
        "  #a =  a + 1 \n",
        "  a += 1\n",
        "  #a++  #will give an error"
      ],
      "execution_count": 146,
      "outputs": [
        {
          "output_type": "stream",
          "name": "stdout",
          "text": [
            "0\n",
            "1\n",
            "2\n",
            "3\n",
            "4\n",
            "5\n",
            "6\n",
            "7\n",
            "8\n",
            "9\n",
            "10\n"
          ]
        }
      ]
    },
    {
      "cell_type": "code",
      "metadata": {
        "id": "JJiLpKONLoiJ",
        "colab": {
          "base_uri": "https://localhost:8080/"
        },
        "outputId": "cb1149ac-7e6c-4942-ace6-3ef2371aaf83"
      },
      "source": [
        "a = 0\n",
        "while(a <= 10):\n",
        "  print(a)\n",
        "  a = a + 2"
      ],
      "execution_count": 147,
      "outputs": [
        {
          "output_type": "stream",
          "name": "stdout",
          "text": [
            "0\n",
            "2\n",
            "4\n",
            "6\n",
            "8\n",
            "10\n"
          ]
        }
      ]
    },
    {
      "cell_type": "code",
      "metadata": {
        "id": "UkghASLyLokp",
        "colab": {
          "base_uri": "https://localhost:8080/"
        },
        "outputId": "c745a0d7-1051-4151-e423-39c883417fd5"
      },
      "source": [
        "#two tables\n",
        "i = 1\n",
        "n = 2\n",
        "while(i<=10):\n",
        "  print(n,\"*\",i,\" = \",n*i)\n",
        "  i = i + 1\n"
      ],
      "execution_count": 148,
      "outputs": [
        {
          "output_type": "stream",
          "name": "stdout",
          "text": [
            "2 * 1  =  2\n",
            "2 * 2  =  4\n",
            "2 * 3  =  6\n",
            "2 * 4  =  8\n",
            "2 * 5  =  10\n",
            "2 * 6  =  12\n",
            "2 * 7  =  14\n",
            "2 * 8  =  16\n",
            "2 * 9  =  18\n",
            "2 * 10  =  20\n"
          ]
        }
      ]
    },
    {
      "cell_type": "code",
      "metadata": {
        "id": "rSWy_4QlLom9",
        "colab": {
          "base_uri": "https://localhost:8080/"
        },
        "outputId": "09a3817f-5f38-4046-fdcc-4772e1b2a06d"
      },
      "source": [
        "#three tables\n",
        "i = 1\n",
        "n = 3\n",
        "while(i<=10):\n",
        "  print(n,\"*\",i,\" = \",n*i)\n",
        "  i = i + 1\n"
      ],
      "execution_count": 149,
      "outputs": [
        {
          "output_type": "stream",
          "name": "stdout",
          "text": [
            "3 * 1  =  3\n",
            "3 * 2  =  6\n",
            "3 * 3  =  9\n",
            "3 * 4  =  12\n",
            "3 * 5  =  15\n",
            "3 * 6  =  18\n",
            "3 * 7  =  21\n",
            "3 * 8  =  24\n",
            "3 * 9  =  27\n",
            "3 * 10  =  30\n"
          ]
        }
      ]
    },
    {
      "cell_type": "code",
      "metadata": {
        "id": "0DqWat2fLotP",
        "colab": {
          "base_uri": "https://localhost:8080/"
        },
        "outputId": "a7c9f41d-5f14-4719-fb2f-ffb06a1de8bf"
      },
      "source": [
        "i = 1\n",
        "while i<=5:\n",
        "  print('Python training',i)\n",
        "  i = i + 1  #increment"
      ],
      "execution_count": 150,
      "outputs": [
        {
          "output_type": "stream",
          "name": "stdout",
          "text": [
            "Python training 1\n",
            "Python training 2\n",
            "Python training 3\n",
            "Python training 4\n",
            "Python training 5\n"
          ]
        }
      ]
    },
    {
      "cell_type": "code",
      "metadata": {
        "id": "blZ0jbtjLovc",
        "colab": {
          "base_uri": "https://localhost:8080/"
        },
        "outputId": "b89eacae-40d4-4999-b5d6-335aba728483"
      },
      "source": [
        "i = 5\n",
        "while i>=1:\n",
        "  print('Python training',i)\n",
        "  i = i - 1 #decrement"
      ],
      "execution_count": 151,
      "outputs": [
        {
          "output_type": "stream",
          "name": "stdout",
          "text": [
            "Python training 5\n",
            "Python training 4\n",
            "Python training 3\n",
            "Python training 2\n",
            "Python training 1\n"
          ]
        }
      ]
    },
    {
      "cell_type": "code",
      "metadata": {
        "id": "gaAA00zhLoxt",
        "colab": {
          "base_uri": "https://localhost:8080/"
        },
        "outputId": "d42c1a22-698d-4257-c9e3-8a9a9cc7c0c9"
      },
      "source": [
        "#using a nested while loop\n",
        "i = 1\n",
        "while i <= 5:\n",
        "  print(\"python \",end = \"\")\n",
        "  #nested while loop starts\n",
        "  j = 1\n",
        "  while j <= 1:\n",
        "    print(\"trainings\")\n",
        "    j = j + 1\n",
        "  i = i + 1"
      ],
      "execution_count": 152,
      "outputs": [
        {
          "output_type": "stream",
          "name": "stdout",
          "text": [
            "python trainings\n",
            "python trainings\n",
            "python trainings\n",
            "python trainings\n",
            "python trainings\n"
          ]
        }
      ]
    },
    {
      "cell_type": "code",
      "metadata": {
        "id": "Uwdx8bGoLoz8",
        "colab": {
          "base_uri": "https://localhost:8080/"
        },
        "outputId": "8453f7d1-1cf3-436a-f9fd-4fb129343afc"
      },
      "source": [
        "#CODE FOR ACCESS \n",
        "code = 1234\n",
        "i = 3\n",
        "\n",
        "while (i>0):\n",
        "    guess = int(input('Enter the code/password:'))\n",
        "    if (guess == code):\n",
        "        print(\" Access granted!\")\n",
        "        break\n",
        "    else:\n",
        "        print(\" Wrong Password. You have \" +str(i-1)+\" chances reamining\")\n",
        "        i=i-1\n",
        "        if i==0:\n",
        "          print(\" You Missed all Your Chances Now GetOut (; \")\n",
        "        else:\n",
        "          pass\n",
        "          \n",
        "    "
      ],
      "execution_count": 153,
      "outputs": [
        {
          "output_type": "stream",
          "name": "stdout",
          "text": [
            "Enter the code/password:1231\n",
            " Wrong Password. You have 2 chances reamining\n",
            "Enter the code/password:1212\n",
            " Wrong Password. You have 1 chances reamining\n",
            "Enter the code/password:2121\n",
            " Wrong Password. You have 0 chances reamining\n",
            " You Missed all Your Chances Now GetOut (; \n"
          ]
        }
      ]
    },
    {
      "cell_type": "code",
      "metadata": {
        "id": "28lBbUfNLo1u",
        "colab": {
          "base_uri": "https://localhost:8080/"
        },
        "outputId": "6ba74a63-6a13-4269-8ce0-c8c727ac668a"
      },
      "source": [
        "n = int(input('Enter the number of rows:'))  # 4 rows\n",
        "i = 1\n",
        "while i <= n:\n",
        "  j = 1\n",
        "  while j <= i:\n",
        "    print(\"*\",end = \" \")\n",
        "    j = j + 1\n",
        "  print()\n",
        "  i = i + 1 "
      ],
      "execution_count": 154,
      "outputs": [
        {
          "output_type": "stream",
          "name": "stdout",
          "text": [
            "Enter the number of rows:5\n",
            "* \n",
            "* * \n",
            "* * * \n",
            "* * * * \n",
            "* * * * * \n"
          ]
        }
      ]
    },
    {
      "cell_type": "markdown",
      "metadata": {
        "id": "QWKCSt1SVs5P"
      },
      "source": [
        "### For Loop"
      ]
    },
    {
      "cell_type": "code",
      "metadata": {
        "id": "vX0b-046z4GE",
        "colab": {
          "base_uri": "https://localhost:8080/"
        },
        "outputId": "823f3d98-93ac-4931-a663-d96c8f2fff6a"
      },
      "source": [
        "for i in range(10):\n",
        "  print(i)"
      ],
      "execution_count": 155,
      "outputs": [
        {
          "output_type": "stream",
          "name": "stdout",
          "text": [
            "0\n",
            "1\n",
            "2\n",
            "3\n",
            "4\n",
            "5\n",
            "6\n",
            "7\n",
            "8\n",
            "9\n"
          ]
        }
      ]
    },
    {
      "cell_type": "code",
      "metadata": {
        "id": "gSf2ZJexd1b3",
        "colab": {
          "base_uri": "https://localhost:8080/"
        },
        "outputId": "775603f0-eb50-46d0-cdb4-d5e042e37905"
      },
      "source": [
        "for i in range(2,11):\n",
        "  print(i)\n",
        "# In For Loop there is no need to Increment or Decrement"
      ],
      "execution_count": 156,
      "outputs": [
        {
          "output_type": "stream",
          "name": "stdout",
          "text": [
            "2\n",
            "3\n",
            "4\n",
            "5\n",
            "6\n",
            "7\n",
            "8\n",
            "9\n",
            "10\n"
          ]
        }
      ]
    },
    {
      "cell_type": "code",
      "metadata": {
        "id": "gaxWoZASeBu4",
        "colab": {
          "base_uri": "https://localhost:8080/"
        },
        "outputId": "69c16aab-4aa8-47a7-89a4-1e121ac11182"
      },
      "source": [
        "for i in range(1,10,2):\n",
        "  print(i)"
      ],
      "execution_count": 157,
      "outputs": [
        {
          "output_type": "stream",
          "name": "stdout",
          "text": [
            "1\n",
            "3\n",
            "5\n",
            "7\n",
            "9\n"
          ]
        }
      ]
    },
    {
      "cell_type": "code",
      "metadata": {
        "colab": {
          "base_uri": "https://localhost:8080/"
        },
        "id": "FB43HFuHeL9J",
        "outputId": "ddd86fa5-5b85-415c-a296-45156265bca9"
      },
      "source": [
        "for i in range(10,0,-3):\n",
        "  print(i)"
      ],
      "execution_count": 158,
      "outputs": [
        {
          "output_type": "stream",
          "name": "stdout",
          "text": [
            "10\n",
            "7\n",
            "4\n",
            "1\n"
          ]
        }
      ]
    }
  ]
}