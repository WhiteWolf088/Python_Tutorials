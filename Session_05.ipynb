{
  "nbformat": 4,
  "nbformat_minor": 0,
  "metadata": {
    "colab": {
      "name": "Session_05.ipynb",
      "provenance": [],
      "collapsed_sections": [],
      "include_colab_link": true
    },
    "kernelspec": {
      "name": "python3",
      "display_name": "Python 3"
    },
    "language_info": {
      "name": "python"
    }
  },
  "cells": [
    {
      "cell_type": "markdown",
      "metadata": {
        "id": "view-in-github",
        "colab_type": "text"
      },
      "source": [
        "<a href=\"https://colab.research.google.com/github/WhiteWolf088/Python_Tutorials/blob/main/Session_05.ipynb\" target=\"_parent\"><img src=\"https://colab.research.google.com/assets/colab-badge.svg\" alt=\"Open In Colab\"/></a>"
      ]
    },
    {
      "cell_type": "markdown",
      "metadata": {
        "id": "TslyHChyiqte"
      },
      "source": [
        "# **FUNCTIONS** "
      ]
    },
    {
      "cell_type": "code",
      "metadata": {
        "colab": {
          "base_uri": "https://localhost:8080/"
        },
        "id": "GCSBhs4cklyU",
        "outputId": "eca2433d-5344-4161-e789-b3cb8b654c4c"
      },
      "source": [
        "def func1():  #format to define a function \n",
        "  print(\"Hello!\") \n",
        "  \n",
        "func1()   #calling a function "
      ],
      "execution_count": 28,
      "outputs": [
        {
          "output_type": "stream",
          "name": "stdout",
          "text": [
            "Hello!\n"
          ]
        }
      ]
    },
    {
      "cell_type": "code",
      "metadata": {
        "colab": {
          "base_uri": "https://localhost:8080/"
        },
        "id": "Iusy-jyElL5P",
        "outputId": "cbcf7cee-1ba3-4b4a-c88d-c22105fa82e1"
      },
      "source": [
        "def func1():  #format to define a function \n",
        "  print(\"Hello!\") \n",
        "  print(\"How do you do?\")\n",
        "func1()   #calling a function once \n",
        "func1()\n",
        "func1()"
      ],
      "execution_count": 29,
      "outputs": [
        {
          "output_type": "stream",
          "name": "stdout",
          "text": [
            "Hello!\n",
            "How do you do?\n",
            "Hello!\n",
            "How do you do?\n",
            "Hello!\n",
            "How do you do?\n"
          ]
        }
      ]
    },
    {
      "cell_type": "code",
      "metadata": {
        "colab": {
          "base_uri": "https://localhost:8080/"
        },
        "id": "pwwXqivZlaYg",
        "outputId": "5fafb24e-bd97-44db-8d68-ea35073482af"
      },
      "source": [
        "def ask_name():\n",
        "  name = input(\"Enter your name :\")\n",
        "  print(\"Your name is \",name)\n",
        "\n",
        "ask_name()"
      ],
      "execution_count": 30,
      "outputs": [
        {
          "output_type": "stream",
          "name": "stdout",
          "text": [
            "Enter your name :Pavan Kumar Reddy\n",
            "Your name is  Pavan Kumar Reddy\n"
          ]
        }
      ]
    },
    {
      "cell_type": "code",
      "metadata": {
        "colab": {
          "base_uri": "https://localhost:8080/"
        },
        "id": "2_FRBkjKl9VC",
        "outputId": "0a8c689e-f965-489a-8f9a-c36ba79135cb"
      },
      "source": [
        "def my_function(name):\n",
        "  print(\"Hello!\",name)\n",
        "  print(\"How do you do?\")\n",
        "  print()\n",
        "\n",
        "my_function(\"user1\")   \n",
        "my_function(\"user2\")\n",
        "my_function(\"user3\")\n",
        "my_function(\"user4\")"
      ],
      "execution_count": 31,
      "outputs": [
        {
          "output_type": "stream",
          "name": "stdout",
          "text": [
            "Hello! user1\n",
            "How do you do?\n",
            "\n",
            "Hello! user2\n",
            "How do you do?\n",
            "\n",
            "Hello! user3\n",
            "How do you do?\n",
            "\n",
            "Hello! user4\n",
            "How do you do?\n",
            "\n"
          ]
        }
      ]
    },
    {
      "cell_type": "code",
      "metadata": {
        "id": "1UN0m7v6mglV",
        "colab": {
          "base_uri": "https://localhost:8080/"
        },
        "outputId": "a0e35667-c7c0-4396-ed79-1f8ddcf3fd71"
      },
      "source": [
        "def add(n1,n2):\n",
        "  result = n1 + n2\n",
        "  print(\"Result :\",result)\n",
        "\n",
        "add(5,5)"
      ],
      "execution_count": 32,
      "outputs": [
        {
          "output_type": "stream",
          "name": "stdout",
          "text": [
            "Result : 10\n"
          ]
        }
      ]
    },
    {
      "cell_type": "code",
      "metadata": {
        "colab": {
          "base_uri": "https://localhost:8080/"
        },
        "id": "yoGi3NnKoYZB",
        "outputId": "b5fe9fde-7ea2-4518-8f1b-28ca8b9bab8c"
      },
      "source": [
        "def add(n1,n2):\n",
        "  result = n1 + n2\n",
        "  return result #return terminates the function immediately and the control goes back to the place from where the function call was made \n",
        "\n",
        "result = add(5,2)\n",
        "print(result)"
      ],
      "execution_count": 33,
      "outputs": [
        {
          "output_type": "stream",
          "name": "stdout",
          "text": [
            "7\n"
          ]
        }
      ]
    },
    {
      "cell_type": "code",
      "metadata": {
        "colab": {
          "base_uri": "https://localhost:8080/"
        },
        "id": "V2kRGjcAnnP9",
        "outputId": "9a13af48-6c8f-40d6-9482-21deb482447f"
      },
      "source": [
        "def Arithmetic_Operations(x,y):\n",
        "  c = x + y \n",
        "  d = x - y\n",
        "  e = x / y\n",
        "  f = x * y\n",
        "  return c,d,e,f  \n",
        "\n",
        "sum,diff,div,mul = Arithmetic_Operations(5,4)\n",
        "print(\"SUM of the numbers:\",sum)\n",
        "print(\"Difference of the numbers:\",diff)\n",
        "print(\"Division of the numbers:\",div)\n",
        "print(\"Product of the numbers:\",mul)"
      ],
      "execution_count": 34,
      "outputs": [
        {
          "output_type": "stream",
          "name": "stdout",
          "text": [
            "SUM of the numbers: 9\n",
            "Difference of the numbers: 1\n",
            "Division of the numbers: 1.25\n",
            "Product of the numbers: 20\n"
          ]
        }
      ]
    },
    {
      "cell_type": "code",
      "metadata": {
        "colab": {
          "base_uri": "https://localhost:8080/"
        },
        "id": "yVpTDKLrpK_S",
        "outputId": "529c5b19-95fb-4286-db48-18a36b7478fa"
      },
      "source": [
        "def my_function(name):\n",
        "  print(\"Hello!\",name)\n",
        "  return \n",
        "  print(\"How do you do?\")\n",
        "  \n",
        "my_function(\"user 1\")"
      ],
      "execution_count": 35,
      "outputs": [
        {
          "output_type": "stream",
          "name": "stdout",
          "text": [
            "Hello! user 1\n"
          ]
        }
      ]
    },
    {
      "cell_type": "code",
      "metadata": {
        "colab": {
          "base_uri": "https://localhost:8080/"
        },
        "id": "DltACFD7rFQL",
        "outputId": "11f72db7-464e-4230-df11-62c3bf076a18"
      },
      "source": [
        "def my_function(name1,name2):\n",
        "  print(name1,name2)\n",
        "my_function(\"user1\", \"user2\")"
      ],
      "execution_count": 36,
      "outputs": [
        {
          "output_type": "stream",
          "name": "stdout",
          "text": [
            "user1 user2\n"
          ]
        }
      ]
    },
    {
      "cell_type": "code",
      "metadata": {
        "colab": {
          "base_uri": "https://localhost:8080/"
        },
        "id": "NrExy9Fprl7S",
        "outputId": "7ac028f8-4b00-4491-ba16-ae767041017b"
      },
      "source": [
        "def ask_yes_no(prompt):\n",
        "  while True:  #forever loop\n",
        "    answer = input(prompt + '(y or n) ')\n",
        "    if answer == 'y' or answer == 'Y':\n",
        "      return True       #return here terminates the function\n",
        "    if answer == 'n' or answer == 'N':\n",
        "      return False\n",
        "    print(\"Asnwer 'y' or 'n' \")\n",
        "\n",
        "\n",
        "\n",
        "if ask_yes_no(\"Do you like ice cream?\"):\n",
        "  print(\"You like ice cream\") \n",
        "else:\n",
        "  print(\"you don't like ice cream\")  "
      ],
      "execution_count": 37,
      "outputs": [
        {
          "output_type": "stream",
          "name": "stdout",
          "text": [
            "Do you like ice cream?(y or n) n\n",
            "you don't like ice cream\n"
          ]
        }
      ]
    },
    {
      "cell_type": "markdown",
      "metadata": {
        "id": "Uj1oBoL3vqgZ"
      },
      "source": [
        "# **NUMPY**"
      ]
    },
    {
      "cell_type": "code",
      "metadata": {
        "id": "f3cd3MFWs7tR"
      },
      "source": [
        "#importing the numpy library "
      ],
      "execution_count": 38,
      "outputs": []
    },
    {
      "cell_type": "code",
      "metadata": {
        "id": "wJJHgTh9ujph"
      },
      "source": [
        "import numpy as np "
      ],
      "execution_count": 39,
      "outputs": []
    },
    {
      "cell_type": "code",
      "metadata": {
        "colab": {
          "base_uri": "https://localhost:8080/"
        },
        "id": "6zExH8uNuzWr",
        "outputId": "fe9de10f-7927-4c43-d351-df261fe66773"
      },
      "source": [
        "a = np.array([1.1,2,3,4,5])\n",
        "a"
      ],
      "execution_count": 40,
      "outputs": [
        {
          "output_type": "execute_result",
          "data": {
            "text/plain": [
              "array([1.1, 2. , 3. , 4. , 5. ])"
            ]
          },
          "metadata": {},
          "execution_count": 40
        }
      ]
    },
    {
      "cell_type": "code",
      "metadata": {
        "colab": {
          "base_uri": "https://localhost:8080/"
        },
        "id": "MY6nLB-PvdCd",
        "outputId": "2c25ef79-aebe-4c99-c531-ac9a957013d8"
      },
      "source": [
        "print(a)"
      ],
      "execution_count": 41,
      "outputs": [
        {
          "output_type": "stream",
          "name": "stdout",
          "text": [
            "[1.1 2.  3.  4.  5. ]\n"
          ]
        }
      ]
    },
    {
      "cell_type": "code",
      "metadata": {
        "colab": {
          "base_uri": "https://localhost:8080/"
        },
        "id": "v_YyHFKeve4e",
        "outputId": "a8b23579-1bff-4327-cf15-8f2848cfff8b"
      },
      "source": [
        "type(a)   #type of a "
      ],
      "execution_count": 42,
      "outputs": [
        {
          "output_type": "execute_result",
          "data": {
            "text/plain": [
              "numpy.ndarray"
            ]
          },
          "metadata": {},
          "execution_count": 42
        }
      ]
    },
    {
      "cell_type": "code",
      "metadata": {
        "colab": {
          "base_uri": "https://localhost:8080/"
        },
        "id": "WSPiohESwqI1",
        "outputId": "967bcb74-b79d-495d-ba07-6bc1f0617539"
      },
      "source": [
        "a.dtype  #type of elements inside a "
      ],
      "execution_count": 43,
      "outputs": [
        {
          "output_type": "execute_result",
          "data": {
            "text/plain": [
              "dtype('float64')"
            ]
          },
          "metadata": {},
          "execution_count": 43
        }
      ]
    },
    {
      "cell_type": "code",
      "metadata": {
        "colab": {
          "base_uri": "https://localhost:8080/"
        },
        "id": "aJGKZYN4wh4H",
        "outputId": "ce9d4e1a-be75-4bbc-c6b4-3290dc003a47"
      },
      "source": [
        "a.ndim"
      ],
      "execution_count": 44,
      "outputs": [
        {
          "output_type": "execute_result",
          "data": {
            "text/plain": [
              "1"
            ]
          },
          "metadata": {},
          "execution_count": 44
        }
      ]
    },
    {
      "cell_type": "code",
      "metadata": {
        "colab": {
          "base_uri": "https://localhost:8080/"
        },
        "id": "rUOxtHSVwMcw",
        "outputId": "1aa68414-1bf0-46e0-d4ad-b517524211df"
      },
      "source": [
        "a.size"
      ],
      "execution_count": 45,
      "outputs": [
        {
          "output_type": "execute_result",
          "data": {
            "text/plain": [
              "5"
            ]
          },
          "metadata": {},
          "execution_count": 45
        }
      ]
    },
    {
      "cell_type": "code",
      "metadata": {
        "colab": {
          "base_uri": "https://localhost:8080/"
        },
        "id": "g5iAWmOKvhuB",
        "outputId": "43493726-f98c-4c6a-baf3-dc3e43232f56"
      },
      "source": [
        "b = np.array([5,3,7,1,8,4])\n",
        "b"
      ],
      "execution_count": 46,
      "outputs": [
        {
          "output_type": "execute_result",
          "data": {
            "text/plain": [
              "array([5, 3, 7, 1, 8, 4])"
            ]
          },
          "metadata": {},
          "execution_count": 46
        }
      ]
    },
    {
      "cell_type": "code",
      "metadata": {
        "colab": {
          "base_uri": "https://localhost:8080/"
        },
        "id": "g5ftPB2nv-5P",
        "outputId": "b2137281-88a2-4ec4-a99f-6794aa9820ec"
      },
      "source": [
        "np.sort(b)  #faster to give the output "
      ],
      "execution_count": 47,
      "outputs": [
        {
          "output_type": "execute_result",
          "data": {
            "text/plain": [
              "array([1, 3, 4, 5, 7, 8])"
            ]
          },
          "metadata": {},
          "execution_count": 47
        }
      ]
    },
    {
      "cell_type": "code",
      "metadata": {
        "colab": {
          "base_uri": "https://localhost:8080/"
        },
        "id": "NEuQaAg5w3WG",
        "outputId": "7653b71d-496a-437c-a2a3-e0531267dc22"
      },
      "source": [
        "b.sort()\n",
        "b"
      ],
      "execution_count": 48,
      "outputs": [
        {
          "output_type": "execute_result",
          "data": {
            "text/plain": [
              "array([1, 3, 4, 5, 7, 8])"
            ]
          },
          "metadata": {},
          "execution_count": 48
        }
      ]
    },
    {
      "cell_type": "code",
      "metadata": {
        "id": "nTKb_zd1wBGQ",
        "colab": {
          "base_uri": "https://localhost:8080/"
        },
        "outputId": "1c034cb8-5a48-46bc-fa37-4c4813b824e5"
      },
      "source": [
        "b.size      #size is an attribute   # sort() is a method"
      ],
      "execution_count": 49,
      "outputs": [
        {
          "output_type": "execute_result",
          "data": {
            "text/plain": [
              "6"
            ]
          },
          "metadata": {},
          "execution_count": 49
        }
      ]
    },
    {
      "cell_type": "code",
      "metadata": {
        "colab": {
          "base_uri": "https://localhost:8080/"
        },
        "id": "GdNWEo6SwJrw",
        "outputId": "52be73b4-113d-443a-cfde-35260df037a9"
      },
      "source": [
        "b.ndim"
      ],
      "execution_count": 50,
      "outputs": [
        {
          "output_type": "execute_result",
          "data": {
            "text/plain": [
              "1"
            ]
          },
          "metadata": {},
          "execution_count": 50
        }
      ]
    },
    {
      "cell_type": "code",
      "metadata": {
        "colab": {
          "base_uri": "https://localhost:8080/"
        },
        "id": "aumyxCPMwlzP",
        "outputId": "dd6c4e07-7e49-4eaf-bb09-e44dfffc129f"
      },
      "source": [
        "b.shape  #1row 6 coumns"
      ],
      "execution_count": 51,
      "outputs": [
        {
          "output_type": "execute_result",
          "data": {
            "text/plain": [
              "(6,)"
            ]
          },
          "metadata": {},
          "execution_count": 51
        }
      ]
    }
  ]
}