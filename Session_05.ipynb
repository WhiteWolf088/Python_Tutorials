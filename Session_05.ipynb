{
  "nbformat": 4,
  "nbformat_minor": 0,
  "metadata": {
    "colab": {
      "name": "Session_05.ipynb",
      "provenance": [],
      "collapsed_sections": [],
      "include_colab_link": true
    },
    "kernelspec": {
      "name": "python3",
      "display_name": "Python 3"
    },
    "language_info": {
      "name": "python"
    }
  },
  "cells": [
    {
      "cell_type": "markdown",
      "metadata": {
        "id": "view-in-github",
        "colab_type": "text"
      },
      "source": [
        "<a href=\"https://colab.research.google.com/github/WhiteWolf088/Python_Tutorials/blob/main/Session_05.ipynb\" target=\"_parent\"><img src=\"https://colab.research.google.com/assets/colab-badge.svg\" alt=\"Open In Colab\"/></a>"
      ]
    },
    {
      "cell_type": "markdown",
      "metadata": {
        "id": "TslyHChyiqte"
      },
      "source": [
        "# **FUNCTIONS** "
      ]
    },
    {
      "cell_type": "code",
      "metadata": {
        "colab": {
          "base_uri": "https://localhost:8080/"
        },
        "id": "GCSBhs4cklyU",
        "outputId": "eca2433d-5344-4161-e789-b3cb8b654c4c"
      },
      "source": [
        "def func1():  #format to define a function \n",
        "  print(\"Hello!\") \n",
        "  \n",
        "func1()   #calling a function "
      ],
      "execution_count": null,
      "outputs": [
        {
          "output_type": "stream",
          "name": "stdout",
          "text": [
            "Hello!\n"
          ]
        }
      ]
    },
    {
      "cell_type": "code",
      "metadata": {
        "colab": {
          "base_uri": "https://localhost:8080/"
        },
        "id": "Iusy-jyElL5P",
        "outputId": "cbcf7cee-1ba3-4b4a-c88d-c22105fa82e1"
      },
      "source": [
        "def func1():  #format to define a function \n",
        "  print(\"Hello!\") \n",
        "  print(\"How do you do?\")\n",
        "func1()   #calling a function once \n",
        "func1()\n",
        "func1()"
      ],
      "execution_count": null,
      "outputs": [
        {
          "output_type": "stream",
          "name": "stdout",
          "text": [
            "Hello!\n",
            "How do you do?\n",
            "Hello!\n",
            "How do you do?\n",
            "Hello!\n",
            "How do you do?\n"
          ]
        }
      ]
    },
    {
      "cell_type": "code",
      "metadata": {
        "colab": {
          "base_uri": "https://localhost:8080/"
        },
        "id": "pwwXqivZlaYg",
        "outputId": "5fafb24e-bd97-44db-8d68-ea35073482af"
      },
      "source": [
        "def ask_name():\n",
        "  name = input(\"Enter your name :\")\n",
        "  print(\"Your name is \",name)\n",
        "\n",
        "ask_name()"
      ],
      "execution_count": null,
      "outputs": [
        {
          "output_type": "stream",
          "name": "stdout",
          "text": [
            "Enter your name :Pavan Kumar Reddy\n",
            "Your name is  Pavan Kumar Reddy\n"
          ]
        }
      ]
    },
    {
      "cell_type": "code",
      "metadata": {
        "colab": {
          "base_uri": "https://localhost:8080/"
        },
        "id": "2_FRBkjKl9VC",
        "outputId": "0a8c689e-f965-489a-8f9a-c36ba79135cb"
      },
      "source": [
        "def my_function(name):\n",
        "  print(\"Hello!\",name)\n",
        "  print(\"How do you do?\")\n",
        "  print()\n",
        "\n",
        "my_function(\"user1\")   \n",
        "my_function(\"user2\")\n",
        "my_function(\"user3\")\n",
        "my_function(\"user4\")"
      ],
      "execution_count": null,
      "outputs": [
        {
          "output_type": "stream",
          "name": "stdout",
          "text": [
            "Hello! user1\n",
            "How do you do?\n",
            "\n",
            "Hello! user2\n",
            "How do you do?\n",
            "\n",
            "Hello! user3\n",
            "How do you do?\n",
            "\n",
            "Hello! user4\n",
            "How do you do?\n",
            "\n"
          ]
        }
      ]
    },
    {
      "cell_type": "code",
      "metadata": {
        "id": "1UN0m7v6mglV",
        "colab": {
          "base_uri": "https://localhost:8080/"
        },
        "outputId": "a0e35667-c7c0-4396-ed79-1f8ddcf3fd71"
      },
      "source": [
        "def add(n1,n2):\n",
        "  result = n1 + n2\n",
        "  print(\"Result :\",result)\n",
        "\n",
        "add(5,5)"
      ],
      "execution_count": null,
      "outputs": [
        {
          "output_type": "stream",
          "name": "stdout",
          "text": [
            "Result : 10\n"
          ]
        }
      ]
    },
    {
      "cell_type": "code",
      "metadata": {
        "colab": {
          "base_uri": "https://localhost:8080/"
        },
        "id": "yoGi3NnKoYZB",
        "outputId": "b5fe9fde-7ea2-4518-8f1b-28ca8b9bab8c"
      },
      "source": [
        "def add(n1,n2):\n",
        "  result = n1 + n2\n",
        "  return result #return terminates the function immediately and the control goes back to the place from where the function call was made \n",
        "\n",
        "result = add(5,2)\n",
        "print(result)"
      ],
      "execution_count": null,
      "outputs": [
        {
          "output_type": "stream",
          "name": "stdout",
          "text": [
            "7\n"
          ]
        }
      ]
    },
    {
      "cell_type": "code",
      "metadata": {
        "colab": {
          "base_uri": "https://localhost:8080/"
        },
        "id": "V2kRGjcAnnP9",
        "outputId": "9a13af48-6c8f-40d6-9482-21deb482447f"
      },
      "source": [
        "def Arithmetic_Operations(x,y):\n",
        "  c = x + y \n",
        "  d = x - y\n",
        "  e = x / y\n",
        "  f = x * y\n",
        "  return c,d,e,f  \n",
        "\n",
        "sum,diff,div,mul = Arithmetic_Operations(5,4)\n",
        "print(\"SUM of the numbers:\",sum)\n",
        "print(\"Difference of the numbers:\",diff)\n",
        "print(\"Division of the numbers:\",div)\n",
        "print(\"Product of the numbers:\",mul)"
      ],
      "execution_count": null,
      "outputs": [
        {
          "output_type": "stream",
          "name": "stdout",
          "text": [
            "SUM of the numbers: 9\n",
            "Difference of the numbers: 1\n",
            "Division of the numbers: 1.25\n",
            "Product of the numbers: 20\n"
          ]
        }
      ]
    },
    {
      "cell_type": "code",
      "metadata": {
        "colab": {
          "base_uri": "https://localhost:8080/"
        },
        "id": "yVpTDKLrpK_S",
        "outputId": "529c5b19-95fb-4286-db48-18a36b7478fa"
      },
      "source": [
        "def my_function(name):\n",
        "  print(\"Hello!\",name)\n",
        "  return \n",
        "  print(\"How do you do?\")\n",
        "  \n",
        "my_function(\"user 1\")"
      ],
      "execution_count": null,
      "outputs": [
        {
          "output_type": "stream",
          "name": "stdout",
          "text": [
            "Hello! user 1\n"
          ]
        }
      ]
    },
    {
      "cell_type": "code",
      "metadata": {
        "colab": {
          "base_uri": "https://localhost:8080/"
        },
        "id": "DltACFD7rFQL",
        "outputId": "11f72db7-464e-4230-df11-62c3bf076a18"
      },
      "source": [
        "def my_function(name1,name2):\n",
        "  print(name1,name2)\n",
        "my_function(\"user1\", \"user2\")"
      ],
      "execution_count": null,
      "outputs": [
        {
          "output_type": "stream",
          "name": "stdout",
          "text": [
            "user1 user2\n"
          ]
        }
      ]
    },
    {
      "cell_type": "code",
      "metadata": {
        "colab": {
          "base_uri": "https://localhost:8080/"
        },
        "id": "NrExy9Fprl7S",
        "outputId": "7ac028f8-4b00-4491-ba16-ae767041017b"
      },
      "source": [
        "def ask_yes_no(prompt):\n",
        "  while True:  #forever loop\n",
        "    answer = input(prompt + '(y or n) ')\n",
        "    if answer == 'y' or answer == 'Y':\n",
        "      return True       #return here terminates the function\n",
        "    if answer == 'n' or answer == 'N':\n",
        "      return False\n",
        "    print(\"Asnwer 'y' or 'n' \")\n",
        "\n",
        "\n",
        "\n",
        "if ask_yes_no(\"Do you like ice cream?\"):\n",
        "  print(\"You like ice cream\") \n",
        "else:\n",
        "  print(\"you don't like ice cream\")  "
      ],
      "execution_count": null,
      "outputs": [
        {
          "output_type": "stream",
          "name": "stdout",
          "text": [
            "Do you like ice cream?(y or n) n\n",
            "you don't like ice cream\n"
          ]
        }
      ]
    }
  ]
}