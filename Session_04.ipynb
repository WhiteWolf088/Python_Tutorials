{
  "nbformat": 4,
  "nbformat_minor": 0,
  "metadata": {
    "colab": {
      "name": "Session_04.ipynb",
      "provenance": [],
      "collapsed_sections": [],
      "include_colab_link": true
    },
    "kernelspec": {
      "name": "python3",
      "display_name": "Python 3"
    },
    "language_info": {
      "name": "python"
    }
  },
  "cells": [
    {
      "cell_type": "markdown",
      "metadata": {
        "id": "view-in-github",
        "colab_type": "text"
      },
      "source": [
        "<a href=\"https://colab.research.google.com/github/WhiteWolf088/Python_Tutorials/blob/main/Session_04.ipynb\" target=\"_parent\"><img src=\"https://colab.research.google.com/assets/colab-badge.svg\" alt=\"Open In Colab\"/></a>"
      ]
    },
    {
      "cell_type": "markdown",
      "metadata": {
        "id": "VFUs9gDHqZRA"
      },
      "source": [
        "## For Loop"
      ]
    },
    {
      "cell_type": "code",
      "metadata": {
        "colab": {
          "base_uri": "https://localhost:8080/"
        },
        "id": "dvKG4z7HZBdx",
        "outputId": "68470af8-bbc4-45e7-bdb7-ab1e1b2d647e"
      },
      "source": [
        "for i in range(1,10,2):\n",
        "  print(i)"
      ],
      "execution_count": 56,
      "outputs": [
        {
          "output_type": "stream",
          "name": "stdout",
          "text": [
            "1\n",
            "3\n",
            "5\n",
            "7\n",
            "9\n"
          ]
        }
      ]
    },
    {
      "cell_type": "code",
      "metadata": {
        "colab": {
          "base_uri": "https://localhost:8080/"
        },
        "id": "RjPzLFnLZXVF",
        "outputId": "c8de4af2-94f8-488f-d9d3-fe2e7d36c47e"
      },
      "source": [
        "for i in range(20,2,-3):\n",
        "  print(i, end =\" \")"
      ],
      "execution_count": 57,
      "outputs": [
        {
          "output_type": "stream",
          "name": "stdout",
          "text": [
            "20 17 14 11 8 5 "
          ]
        }
      ]
    },
    {
      "cell_type": "code",
      "metadata": {
        "colab": {
          "base_uri": "https://localhost:8080/"
        },
        "id": "bjMXzbHTZppf",
        "outputId": "55de448e-5754-4c64-cdb1-279329580629"
      },
      "source": [
        "var1 = 'Python'  #string as the input for a for loop\n",
        "for i in var1:\n",
        "  print(i)"
      ],
      "execution_count": 58,
      "outputs": [
        {
          "output_type": "stream",
          "name": "stdout",
          "text": [
            "P\n",
            "y\n",
            "t\n",
            "h\n",
            "o\n",
            "n\n"
          ]
        }
      ]
    },
    {
      "cell_type": "code",
      "metadata": {
        "colab": {
          "base_uri": "https://localhost:8080/"
        },
        "id": "g89pMfg8Z_Tm",
        "outputId": "71a33979-702a-4e4b-a27d-7de223fa6b0a"
      },
      "source": [
        "#taking list as an input in the for loop\n",
        "for i in ['Mumbai','Bangalore','Delhi']:\n",
        "  print(i)"
      ],
      "execution_count": 59,
      "outputs": [
        {
          "output_type": "stream",
          "name": "stdout",
          "text": [
            "Mumbai\n",
            "Bangalore\n",
            "Delhi\n"
          ]
        }
      ]
    },
    {
      "cell_type": "code",
      "metadata": {
        "colab": {
          "base_uri": "https://localhost:8080/"
        },
        "id": "ZjUdSebCahqp",
        "outputId": "a8dc1b64-f42d-4b26-8b55-827366cb3bf8"
      },
      "source": [
        "var2 = ['Mumbai','Bangalore','Delhi']\n",
        "for i in var2:\n",
        "  print(i)"
      ],
      "execution_count": 60,
      "outputs": [
        {
          "output_type": "stream",
          "name": "stdout",
          "text": [
            "Mumbai\n",
            "Bangalore\n",
            "Delhi\n"
          ]
        }
      ]
    },
    {
      "cell_type": "code",
      "metadata": {
        "colab": {
          "base_uri": "https://localhost:8080/"
        },
        "id": "DqdcYaCeauAA",
        "outputId": "aafd8702-74e7-4c40-b89f-fa10c47e09c7"
      },
      "source": [
        "#taking list as an input in the for loop\n",
        "for i in [1,2,5,62,7,8]:\n",
        "  print(i)"
      ],
      "execution_count": 61,
      "outputs": [
        {
          "output_type": "stream",
          "name": "stdout",
          "text": [
            "1\n",
            "2\n",
            "5\n",
            "62\n",
            "7\n",
            "8\n"
          ]
        }
      ]
    },
    {
      "cell_type": "code",
      "metadata": {
        "colab": {
          "base_uri": "https://localhost:8080/"
        },
        "id": "U8OxiMDqa3qc",
        "outputId": "2ba5f88d-222e-4877-e3e0-7e20df431c39"
      },
      "source": [
        "#iterating over a tuple\n",
        "tup1 = (\"hi\",\"hello\",\"welcome\")\n",
        "for i in tup1:\n",
        "  print(i)\n",
        "  "
      ],
      "execution_count": 62,
      "outputs": [
        {
          "output_type": "stream",
          "name": "stdout",
          "text": [
            "hi\n",
            "hello\n",
            "welcome\n"
          ]
        }
      ]
    },
    {
      "cell_type": "code",
      "metadata": {
        "colab": {
          "base_uri": "https://localhost:8080/"
        },
        "id": "4ya6NekhbSA7",
        "outputId": "0d6bf5f4-f524-46a9-9e86-2e4ccfcfed73"
      },
      "source": [
        "for i in [1,2,'Hi']:\n",
        "  print(i, end = \" \")"
      ],
      "execution_count": 63,
      "outputs": [
        {
          "output_type": "stream",
          "name": "stdout",
          "text": [
            "1 2 Hi "
          ]
        }
      ]
    },
    {
      "cell_type": "code",
      "metadata": {
        "colab": {
          "base_uri": "https://localhost:8080/"
        },
        "id": "xTAdYJzmbbiQ",
        "outputId": "0643e4e9-dc1c-4bc2-8827-aa1ecdca9587"
      },
      "source": [
        "n = 3\n",
        "for i in range(1,11):\n",
        "  print(f'{n} x {i} = {n*i}')"
      ],
      "execution_count": 64,
      "outputs": [
        {
          "output_type": "stream",
          "name": "stdout",
          "text": [
            "3 x 1 = 3\n",
            "3 x 2 = 6\n",
            "3 x 3 = 9\n",
            "3 x 4 = 12\n",
            "3 x 5 = 15\n",
            "3 x 6 = 18\n",
            "3 x 7 = 21\n",
            "3 x 8 = 24\n",
            "3 x 9 = 27\n",
            "3 x 10 = 30\n"
          ]
        }
      ]
    },
    {
      "cell_type": "markdown",
      "metadata": {
        "id": "3m2kdjPDcddP"
      },
      "source": [
        "# Sets"
      ]
    },
    {
      "cell_type": "code",
      "metadata": {
        "id": "33L3xZKDcN7n"
      },
      "source": [
        "integers = {1,2,3,4,5,3,6,6,3}"
      ],
      "execution_count": 65,
      "outputs": []
    },
    {
      "cell_type": "code",
      "metadata": {
        "id": "as0S3FwNdWQQ"
      },
      "source": [
        "real = {7,6,8,5}"
      ],
      "execution_count": 66,
      "outputs": []
    },
    {
      "cell_type": "code",
      "metadata": {
        "colab": {
          "base_uri": "https://localhost:8080/"
        },
        "id": "hhuctr2rdadf",
        "outputId": "8adeb92e-d1c5-4194-f0a7-7dac90c15e5b"
      },
      "source": [
        "print(integers)"
      ],
      "execution_count": 67,
      "outputs": [
        {
          "output_type": "stream",
          "name": "stdout",
          "text": [
            "{1, 2, 3, 4, 5, 6}\n"
          ]
        }
      ]
    },
    {
      "cell_type": "code",
      "metadata": {
        "colab": {
          "base_uri": "https://localhost:8080/"
        },
        "id": "bONOKz-1ddJc",
        "outputId": "2a463c72-968e-4281-9652-06e9984525cc"
      },
      "source": [
        "real"
      ],
      "execution_count": 68,
      "outputs": [
        {
          "output_type": "execute_result",
          "data": {
            "text/plain": [
              "{5, 6, 7, 8}"
            ]
          },
          "metadata": {},
          "execution_count": 68
        }
      ]
    },
    {
      "cell_type": "code",
      "metadata": {
        "colab": {
          "base_uri": "https://localhost:8080/"
        },
        "id": "6DHKlWR_ebwa",
        "outputId": "98620f76-6561-43cd-c5b4-bbca096b9608"
      },
      "source": [
        "print(real)"
      ],
      "execution_count": 69,
      "outputs": [
        {
          "output_type": "stream",
          "name": "stdout",
          "text": [
            "{8, 5, 6, 7}\n"
          ]
        }
      ]
    },
    {
      "cell_type": "code",
      "metadata": {
        "colab": {
          "base_uri": "https://localhost:8080/"
        },
        "id": "Fq-ug50rdfrD",
        "outputId": "238b139f-191f-4618-ab6f-9f6c73a07bf2"
      },
      "source": [
        "#to add elements in sets\n",
        "integers.add(10)\n",
        "integers"
      ],
      "execution_count": 70,
      "outputs": [
        {
          "output_type": "execute_result",
          "data": {
            "text/plain": [
              "{1, 2, 3, 4, 5, 6, 10}"
            ]
          },
          "metadata": {},
          "execution_count": 70
        }
      ]
    },
    {
      "cell_type": "code",
      "metadata": {
        "id": "BZOEcynddyh-"
      },
      "source": [
        "integers.discard(3)"
      ],
      "execution_count": 71,
      "outputs": []
    },
    {
      "cell_type": "code",
      "metadata": {
        "colab": {
          "base_uri": "https://localhost:8080/"
        },
        "id": "7hPuFRIUeEYN",
        "outputId": "c0a0f992-1db7-40b0-ab76-0f02a4fbe5ef"
      },
      "source": [
        "integers.add('a')\n",
        "integers"
      ],
      "execution_count": 72,
      "outputs": [
        {
          "output_type": "execute_result",
          "data": {
            "text/plain": [
              "{1, 10, 2, 4, 5, 6, 'a'}"
            ]
          },
          "metadata": {},
          "execution_count": 72
        }
      ]
    },
    {
      "cell_type": "code",
      "metadata": {
        "colab": {
          "base_uri": "https://localhost:8080/"
        },
        "id": "PSqdtdE2fjy_",
        "outputId": "c08d3e72-9d91-4a1f-f459-ea9a8fa2846e"
      },
      "source": [
        "integers.discard('a')\n",
        "integers"
      ],
      "execution_count": 73,
      "outputs": [
        {
          "output_type": "execute_result",
          "data": {
            "text/plain": [
              "{1, 2, 4, 5, 6, 10}"
            ]
          },
          "metadata": {},
          "execution_count": 73
        }
      ]
    },
    {
      "cell_type": "code",
      "metadata": {
        "colab": {
          "base_uri": "https://localhost:8080/"
        },
        "id": "r3KDXyExewOM",
        "outputId": "77a21021-7f8c-4d20-92d4-2f5e46db87c7"
      },
      "source": [
        "real"
      ],
      "execution_count": 74,
      "outputs": [
        {
          "output_type": "execute_result",
          "data": {
            "text/plain": [
              "{5, 6, 7, 8}"
            ]
          },
          "metadata": {},
          "execution_count": 74
        }
      ]
    },
    {
      "cell_type": "code",
      "metadata": {
        "colab": {
          "base_uri": "https://localhost:8080/"
        },
        "id": "QTMnnZWdeFtZ",
        "outputId": "a6c9e1c5-70f4-4d0b-8fff-fdac750a7348"
      },
      "source": [
        "#UNION of a set    #OR logical operator \n",
        "print(integers | real)"
      ],
      "execution_count": 75,
      "outputs": [
        {
          "output_type": "stream",
          "name": "stdout",
          "text": [
            "{1, 2, 4, 5, 6, 7, 8, 10}\n"
          ]
        }
      ]
    },
    {
      "cell_type": "code",
      "metadata": {
        "colab": {
          "base_uri": "https://localhost:8080/"
        },
        "id": "48m2eEWmeufw",
        "outputId": "4d50dff0-ae28-436d-9f94-5f064cffaaac"
      },
      "source": [
        "#INTERSECTION of a set   #AND logical operator\n",
        "print(integers & real)"
      ],
      "execution_count": 76,
      "outputs": [
        {
          "output_type": "stream",
          "name": "stdout",
          "text": [
            "{5, 6}\n"
          ]
        }
      ]
    },
    {
      "cell_type": "code",
      "metadata": {
        "colab": {
          "base_uri": "https://localhost:8080/"
        },
        "id": "HilI4fBre_nq",
        "outputId": "f93779df-5c6a-4c5b-9268-bbdbb0efd411"
      },
      "source": [
        "print(integers ^ real)     #union of uncommon elements #NOT logical operator"
      ],
      "execution_count": 77,
      "outputs": [
        {
          "output_type": "stream",
          "name": "stdout",
          "text": [
            "{1, 2, 4, 7, 8, 10}\n"
          ]
        }
      ]
    },
    {
      "cell_type": "code",
      "metadata": {
        "colab": {
          "base_uri": "https://localhost:8080/"
        },
        "id": "VV3DDAJSgPTr",
        "outputId": "4e8ddd99-2302-40e1-f304-e6a923566862"
      },
      "source": [
        "integers"
      ],
      "execution_count": 78,
      "outputs": [
        {
          "output_type": "execute_result",
          "data": {
            "text/plain": [
              "{1, 2, 4, 5, 6, 10}"
            ]
          },
          "metadata": {},
          "execution_count": 78
        }
      ]
    },
    {
      "cell_type": "code",
      "metadata": {
        "id": "ptgo0_Qeggn1"
      },
      "source": [
        "integers.clear()"
      ],
      "execution_count": 79,
      "outputs": []
    },
    {
      "cell_type": "code",
      "metadata": {
        "colab": {
          "base_uri": "https://localhost:8080/"
        },
        "id": "OJcseLtTgkkv",
        "outputId": "785699d6-45a4-45e2-b3a1-349c10d6cd3f"
      },
      "source": [
        "integers"
      ],
      "execution_count": 80,
      "outputs": [
        {
          "output_type": "execute_result",
          "data": {
            "text/plain": [
              "set()"
            ]
          },
          "metadata": {},
          "execution_count": 80
        }
      ]
    },
    {
      "cell_type": "code",
      "metadata": {
        "colab": {
          "base_uri": "https://localhost:8080/"
        },
        "id": "biXNdpuSglr8",
        "outputId": "b4fc6c34-3fc6-42ca-c752-f62ec41da345"
      },
      "source": [
        "set1 = {'a','b','c','d','e'}\n",
        "tup12 = ('f','g')\n",
        "#add the tuple to a set \n",
        "set1.add(tup12)\n",
        "set1"
      ],
      "execution_count": 81,
      "outputs": [
        {
          "output_type": "execute_result",
          "data": {
            "text/plain": [
              "{('f', 'g'), 'a', 'b', 'c', 'd', 'e'}"
            ]
          },
          "metadata": {},
          "execution_count": 81
        }
      ]
    },
    {
      "cell_type": "code",
      "metadata": {
        "colab": {
          "base_uri": "https://localhost:8080/"
        },
        "id": "YZrFAznfhEZz",
        "outputId": "42076420-42f3-4de3-b730-60b71dede6bc"
      },
      "source": [
        "real"
      ],
      "execution_count": 82,
      "outputs": [
        {
          "output_type": "execute_result",
          "data": {
            "text/plain": [
              "{5, 6, 7, 8}"
            ]
          },
          "metadata": {},
          "execution_count": 82
        }
      ]
    },
    {
      "cell_type": "code",
      "metadata": {
        "colab": {
          "base_uri": "https://localhost:8080/"
        },
        "id": "-HaNoUp4hPmZ",
        "outputId": "cae22ed7-931c-4e03-c650-f3f20b28e661"
      },
      "source": [
        "real2 = real.copy()  #duplicate of a set \n",
        "real2"
      ],
      "execution_count": 83,
      "outputs": [
        {
          "output_type": "execute_result",
          "data": {
            "text/plain": [
              "{5, 6, 7, 8}"
            ]
          },
          "metadata": {},
          "execution_count": 83
        }
      ]
    },
    {
      "cell_type": "code",
      "metadata": {
        "id": "w6x_0WyzhYev"
      },
      "source": [
        "s1 = set()"
      ],
      "execution_count": 84,
      "outputs": []
    },
    {
      "cell_type": "code",
      "metadata": {
        "colab": {
          "base_uri": "https://localhost:8080/"
        },
        "id": "nrAut2bRhlaC",
        "outputId": "a0df7d39-6cec-4d8c-fbc8-336c3dc57bac"
      },
      "source": [
        "type(s1)"
      ],
      "execution_count": 85,
      "outputs": [
        {
          "output_type": "execute_result",
          "data": {
            "text/plain": [
              "set"
            ]
          },
          "metadata": {},
          "execution_count": 85
        }
      ]
    },
    {
      "cell_type": "code",
      "metadata": {
        "colab": {
          "base_uri": "https://localhost:8080/"
        },
        "id": "fEJl9bS6hrzg",
        "outputId": "5f17fc78-8b0c-44cc-e766-964f5f19dea7"
      },
      "source": [
        "s2 = {}\n",
        "type(s2)"
      ],
      "execution_count": 86,
      "outputs": [
        {
          "output_type": "execute_result",
          "data": {
            "text/plain": [
              "dict"
            ]
          },
          "metadata": {},
          "execution_count": 86
        }
      ]
    },
    {
      "cell_type": "markdown",
      "metadata": {
        "id": "fmdiq3Lpqzll"
      },
      "source": [
        "# Dictionary"
      ]
    },
    {
      "cell_type": "code",
      "metadata": {
        "id": "Utu6LvZ9h0Ct"
      },
      "source": [
        "#KEYS AND VALUES (key,value pair)"
      ],
      "execution_count": 87,
      "outputs": []
    },
    {
      "cell_type": "code",
      "metadata": {
        "colab": {
          "base_uri": "https://localhost:8080/"
        },
        "id": "7_fMzqOJjbA_",
        "outputId": "410848db-f2e6-490c-abfc-1d738db9627c"
      },
      "source": [
        "data = {1 : 'hello', 2 : 'hi' ,5 :'welcome', 6:'colab', 8 : 'python', 'name': 'google'}  #creating a key value pair\n",
        "data"
      ],
      "execution_count": 88,
      "outputs": [
        {
          "output_type": "execute_result",
          "data": {
            "text/plain": [
              "{1: 'hello', 2: 'hi', 5: 'welcome', 6: 'colab', 8: 'python', 'name': 'google'}"
            ]
          },
          "metadata": {},
          "execution_count": 88
        }
      ]
    },
    {
      "cell_type": "code",
      "metadata": {
        "id": "LXZq3mk-jprq"
      },
      "source": [
        "# data[3]\n",
        "# Because of no keyword It gives you Error"
      ],
      "execution_count": 89,
      "outputs": []
    },
    {
      "cell_type": "code",
      "metadata": {
        "colab": {
          "base_uri": "https://localhost:8080/",
          "height": 35
        },
        "id": "k35-3isMjxDS",
        "outputId": "af9c40bd-5c52-4917-802d-ae8a86860f56"
      },
      "source": [
        "data[2]"
      ],
      "execution_count": 90,
      "outputs": [
        {
          "output_type": "execute_result",
          "data": {
            "application/vnd.google.colaboratory.intrinsic+json": {
              "type": "string"
            },
            "text/plain": [
              "'hi'"
            ]
          },
          "metadata": {},
          "execution_count": 90
        }
      ]
    },
    {
      "cell_type": "code",
      "metadata": {
        "colab": {
          "base_uri": "https://localhost:8080/",
          "height": 35
        },
        "id": "qBKVlvDxj0vS",
        "outputId": "8ec4191e-21ca-48a7-beba-2973f93304ec"
      },
      "source": [
        "data[8]"
      ],
      "execution_count": 91,
      "outputs": [
        {
          "output_type": "execute_result",
          "data": {
            "application/vnd.google.colaboratory.intrinsic+json": {
              "type": "string"
            },
            "text/plain": [
              "'python'"
            ]
          },
          "metadata": {},
          "execution_count": 91
        }
      ]
    },
    {
      "cell_type": "code",
      "metadata": {
        "colab": {
          "base_uri": "https://localhost:8080/",
          "height": 35
        },
        "id": "sYiKogBckJXg",
        "outputId": "3b0e27c6-64ce-4b1a-d754-a6c2f426305d"
      },
      "source": [
        "data.get(1)"
      ],
      "execution_count": 92,
      "outputs": [
        {
          "output_type": "execute_result",
          "data": {
            "application/vnd.google.colaboratory.intrinsic+json": {
              "type": "string"
            },
            "text/plain": [
              "'hello'"
            ]
          },
          "metadata": {},
          "execution_count": 92
        }
      ]
    },
    {
      "cell_type": "code",
      "metadata": {
        "colab": {
          "base_uri": "https://localhost:8080/",
          "height": 35
        },
        "id": "_a7XyGRkkXaX",
        "outputId": "dc7113f2-d001-48a8-a3a2-edc93a79fd44"
      },
      "source": [
        "data['name']  #string for the key "
      ],
      "execution_count": 93,
      "outputs": [
        {
          "output_type": "execute_result",
          "data": {
            "application/vnd.google.colaboratory.intrinsic+json": {
              "type": "string"
            },
            "text/plain": [
              "'google'"
            ]
          },
          "metadata": {},
          "execution_count": 93
        }
      ]
    },
    {
      "cell_type": "code",
      "metadata": {
        "colab": {
          "base_uri": "https://localhost:8080/"
        },
        "id": "xm_IitMdkpUN",
        "outputId": "665f1e1f-9850-4dd1-aa07-a2f5cfe7b9d5"
      },
      "source": [
        "#dictionary fom lists\n",
        "keys = ['person1','person2','person3']\n",
        "values = ['python','c++','js']\n",
        "#creating a dictionary\n",
        "data2 = dict(zip(keys,values))  #combines the lists and converts the zip into a dictionary\n",
        "data2"
      ],
      "execution_count": 94,
      "outputs": [
        {
          "output_type": "execute_result",
          "data": {
            "text/plain": [
              "{'person1': 'python', 'person2': 'c++', 'person3': 'js'}"
            ]
          },
          "metadata": {},
          "execution_count": 94
        }
      ]
    },
    {
      "cell_type": "code",
      "metadata": {
        "colab": {
          "base_uri": "https://localhost:8080/"
        },
        "id": "KNYVRnKmlEj8",
        "outputId": "34cf47ad-3bdb-4091-ed45-fb57ae1ef674"
      },
      "source": [
        "type(data2)"
      ],
      "execution_count": 95,
      "outputs": [
        {
          "output_type": "execute_result",
          "data": {
            "text/plain": [
              "dict"
            ]
          },
          "metadata": {},
          "execution_count": 95
        }
      ]
    },
    {
      "cell_type": "code",
      "metadata": {
        "colab": {
          "base_uri": "https://localhost:8080/",
          "height": 35
        },
        "id": "e_cu6SohldFE",
        "outputId": "469fd69f-3066-4563-f756-43eef4869008"
      },
      "source": [
        "data2['person1']"
      ],
      "execution_count": 96,
      "outputs": [
        {
          "output_type": "execute_result",
          "data": {
            "application/vnd.google.colaboratory.intrinsic+json": {
              "type": "string"
            },
            "text/plain": [
              "'python'"
            ]
          },
          "metadata": {},
          "execution_count": 96
        }
      ]
    },
    {
      "cell_type": "code",
      "metadata": {
        "colab": {
          "base_uri": "https://localhost:8080/",
          "height": 35
        },
        "id": "83zqrgN0lkT1",
        "outputId": "2fd68b7b-bc58-44d8-ae7d-f5664407eb39"
      },
      "source": [
        "data2['person3']"
      ],
      "execution_count": 97,
      "outputs": [
        {
          "output_type": "execute_result",
          "data": {
            "application/vnd.google.colaboratory.intrinsic+json": {
              "type": "string"
            },
            "text/plain": [
              "'js'"
            ]
          },
          "metadata": {},
          "execution_count": 97
        }
      ]
    },
    {
      "cell_type": "code",
      "metadata": {
        "id": "eDGO9mO2lpzU"
      },
      "source": [
        "data2['person4'] = 'java' "
      ],
      "execution_count": 98,
      "outputs": []
    },
    {
      "cell_type": "code",
      "metadata": {
        "colab": {
          "base_uri": "https://localhost:8080/"
        },
        "id": "XHnkhbHMlyoo",
        "outputId": "b3c89dd2-f415-4f8d-9a20-ce08eba1b910"
      },
      "source": [
        "data2"
      ],
      "execution_count": 99,
      "outputs": [
        {
          "output_type": "execute_result",
          "data": {
            "text/plain": [
              "{'person1': 'python', 'person2': 'c++', 'person3': 'js', 'person4': 'java'}"
            ]
          },
          "metadata": {},
          "execution_count": 99
        }
      ]
    },
    {
      "cell_type": "code",
      "metadata": {
        "id": "S1UdaLlAlzOm"
      },
      "source": [
        "del data2['person2']"
      ],
      "execution_count": 100,
      "outputs": []
    },
    {
      "cell_type": "code",
      "metadata": {
        "colab": {
          "base_uri": "https://localhost:8080/"
        },
        "id": "_BtDr3OTl7Lj",
        "outputId": "821a0264-1634-4c36-af72-59998789735f"
      },
      "source": [
        "data2"
      ],
      "execution_count": 101,
      "outputs": [
        {
          "output_type": "execute_result",
          "data": {
            "text/plain": [
              "{'person1': 'python', 'person3': 'js', 'person4': 'java'}"
            ]
          },
          "metadata": {},
          "execution_count": 101
        }
      ]
    },
    {
      "cell_type": "code",
      "metadata": {
        "id": "mOZOS11pmFU8"
      },
      "source": [
        "# Nested Dictionary\n",
        "editors = {'localhost':'jupyter', 'offline':['IDLE','pycharm','vscode'], 'online' : {'google' : 'colaboratory', 'kaggle' : 'kaggle notebook'}}"
      ],
      "execution_count": 102,
      "outputs": []
    },
    {
      "cell_type": "code",
      "metadata": {
        "colab": {
          "base_uri": "https://localhost:8080/"
        },
        "id": "zHqsyE9Enbi-",
        "outputId": "7eb48741-a7fa-468f-8bf9-722f4e5624b6"
      },
      "source": [
        "editors"
      ],
      "execution_count": 103,
      "outputs": [
        {
          "output_type": "execute_result",
          "data": {
            "text/plain": [
              "{'localhost': 'jupyter',\n",
              " 'offline': ['IDLE', 'pycharm', 'vscode'],\n",
              " 'online': {'google': 'colaboratory', 'kaggle': 'kaggle notebook'}}"
            ]
          },
          "metadata": {},
          "execution_count": 103
        }
      ]
    },
    {
      "cell_type": "code",
      "metadata": {
        "colab": {
          "base_uri": "https://localhost:8080/",
          "height": 35
        },
        "id": "lfKoziNQncrB",
        "outputId": "6d3135b8-08da-45fe-f2dd-39635a07f2b4"
      },
      "source": [
        "editors['localhost']"
      ],
      "execution_count": 104,
      "outputs": [
        {
          "output_type": "execute_result",
          "data": {
            "application/vnd.google.colaboratory.intrinsic+json": {
              "type": "string"
            },
            "text/plain": [
              "'jupyter'"
            ]
          },
          "metadata": {},
          "execution_count": 104
        }
      ]
    },
    {
      "cell_type": "code",
      "metadata": {
        "colab": {
          "base_uri": "https://localhost:8080/"
        },
        "id": "h-PYTdvBnsEv",
        "outputId": "4c26df03-6ecd-4513-a4e1-b5b36a1e4d7c"
      },
      "source": [
        "editors['offline']  #gives multiple values"
      ],
      "execution_count": 105,
      "outputs": [
        {
          "output_type": "execute_result",
          "data": {
            "text/plain": [
              "['IDLE', 'pycharm', 'vscode']"
            ]
          },
          "metadata": {},
          "execution_count": 105
        }
      ]
    },
    {
      "cell_type": "code",
      "metadata": {
        "colab": {
          "base_uri": "https://localhost:8080/",
          "height": 35
        },
        "id": "vQxSL-u1nvWD",
        "outputId": "a1882818-f65a-404f-8f8d-9a0282fe06ec"
      },
      "source": [
        "editors['offline'][1]"
      ],
      "execution_count": 106,
      "outputs": [
        {
          "output_type": "execute_result",
          "data": {
            "application/vnd.google.colaboratory.intrinsic+json": {
              "type": "string"
            },
            "text/plain": [
              "'pycharm'"
            ]
          },
          "metadata": {},
          "execution_count": 106
        }
      ]
    },
    {
      "cell_type": "code",
      "metadata": {
        "colab": {
          "base_uri": "https://localhost:8080/"
        },
        "id": "gmOJ4qO5n3wD",
        "outputId": "818b13d9-9dab-47c8-954b-e8e82cc04b8f"
      },
      "source": [
        "editors['online']"
      ],
      "execution_count": 107,
      "outputs": [
        {
          "output_type": "execute_result",
          "data": {
            "text/plain": [
              "{'google': 'colaboratory', 'kaggle': 'kaggle notebook'}"
            ]
          },
          "metadata": {},
          "execution_count": 107
        }
      ]
    },
    {
      "cell_type": "code",
      "metadata": {
        "colab": {
          "base_uri": "https://localhost:8080/",
          "height": 35
        },
        "id": "qHdsIKB4n7kk",
        "outputId": "ea9bf99b-85de-468e-990f-9c2d2a9b8489"
      },
      "source": [
        "editors['online']['google']"
      ],
      "execution_count": 108,
      "outputs": [
        {
          "output_type": "execute_result",
          "data": {
            "application/vnd.google.colaboratory.intrinsic+json": {
              "type": "string"
            },
            "text/plain": [
              "'colaboratory'"
            ]
          },
          "metadata": {},
          "execution_count": 108
        }
      ]
    },
    {
      "cell_type": "code",
      "metadata": {
        "colab": {
          "base_uri": "https://localhost:8080/",
          "height": 35
        },
        "id": "lThIf1xyoCIV",
        "outputId": "471130d3-fe70-403e-fe44-4a38e2dabd74"
      },
      "source": [
        "editors['online']['kaggle']"
      ],
      "execution_count": 109,
      "outputs": [
        {
          "output_type": "execute_result",
          "data": {
            "application/vnd.google.colaboratory.intrinsic+json": {
              "type": "string"
            },
            "text/plain": [
              "'kaggle notebook'"
            ]
          },
          "metadata": {},
          "execution_count": 109
        }
      ]
    }
  ]
}