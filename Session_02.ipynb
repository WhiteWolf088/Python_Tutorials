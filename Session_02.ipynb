{
  "nbformat": 4,
  "nbformat_minor": 0,
  "metadata": {
    "colab": {
      "name": "Session_02.ipynb",
      "provenance": [],
      "collapsed_sections": [],
      "include_colab_link": true
    },
    "kernelspec": {
      "name": "python3",
      "display_name": "Python 3"
    },
    "language_info": {
      "name": "python"
    }
  },
  "cells": [
    {
      "cell_type": "markdown",
      "metadata": {
        "id": "view-in-github",
        "colab_type": "text"
      },
      "source": [
        "<a href=\"https://colab.research.google.com/github/WhiteWolf088/Python_Tutorials/blob/main/Session_02.ipynb\" target=\"_parent\"><img src=\"https://colab.research.google.com/assets/colab-badge.svg\" alt=\"Open In Colab\"/></a>"
      ]
    },
    {
      "cell_type": "markdown",
      "metadata": {
        "id": "9W-zNOK2OgZx"
      },
      "source": [
        "### Taking inputs from User and perform Arithmetic Operations"
      ]
    },
    {
      "cell_type": "code",
      "metadata": {
        "colab": {
          "base_uri": "https://localhost:8080/"
        },
        "id": "RrJ6M4gXW8Gd",
        "outputId": "037338b8-a56f-4f42-f194-de9b193cd96b"
      },
      "source": [
        "a = input('Enter a number : ')\n",
        "print(a)"
      ],
      "execution_count": 33,
      "outputs": [
        {
          "output_type": "stream",
          "name": "stdout",
          "text": [
            "Enter a number : 7\n",
            "7\n"
          ]
        }
      ]
    },
    {
      "cell_type": "code",
      "metadata": {
        "colab": {
          "base_uri": "https://localhost:8080/"
        },
        "id": "3wzkQLaZXVg9",
        "outputId": "cac0416d-2bfd-40fa-d880-196528dcbe50"
      },
      "source": [
        "type(a)"
      ],
      "execution_count": 34,
      "outputs": [
        {
          "output_type": "execute_result",
          "data": {
            "text/plain": [
              "str"
            ]
          },
          "metadata": {},
          "execution_count": 34
        }
      ]
    },
    {
      "cell_type": "code",
      "metadata": {
        "colab": {
          "base_uri": "https://localhost:8080/"
        },
        "id": "ESjO8TEmXmJQ",
        "outputId": "72d6523a-ea6a-4dc5-c3ea-5b19141174bb"
      },
      "source": [
        "b = input('Enter another number : ')"
      ],
      "execution_count": 35,
      "outputs": [
        {
          "name": "stdout",
          "output_type": "stream",
          "text": [
            "Enter another number : 5\n"
          ]
        }
      ]
    },
    {
      "cell_type": "code",
      "metadata": {
        "colab": {
          "base_uri": "https://localhost:8080/"
        },
        "id": "bLW-_v_kXvY0",
        "outputId": "6020c4ee-0eb7-41ac-aba9-f92cf7a9df7d"
      },
      "source": [
        "type(b)"
      ],
      "execution_count": 36,
      "outputs": [
        {
          "output_type": "execute_result",
          "data": {
            "text/plain": [
              "str"
            ]
          },
          "metadata": {},
          "execution_count": 36
        }
      ]
    },
    {
      "cell_type": "code",
      "metadata": {
        "colab": {
          "base_uri": "https://localhost:8080/",
          "height": 35
        },
        "id": "mDyOBGl5XyQU",
        "outputId": "c655305c-cc1a-494a-d4a8-c8c13eead232"
      },
      "source": [
        "a+b "
      ],
      "execution_count": 37,
      "outputs": [
        {
          "output_type": "execute_result",
          "data": {
            "application/vnd.google.colaboratory.intrinsic+json": {
              "type": "string"
            },
            "text/plain": [
              "'75'"
            ]
          },
          "metadata": {},
          "execution_count": 37
        }
      ]
    },
    {
      "cell_type": "code",
      "metadata": {
        "colab": {
          "base_uri": "https://localhost:8080/"
        },
        "id": "pKq5c6o2X3uo",
        "outputId": "9b257fc4-08ec-486a-ab69-f5608d051934"
      },
      "source": [
        "#integer input \n",
        "#input statement lets the user give the input \n",
        "a = int(input(\"Enter 1st number : \"))"
      ],
      "execution_count": 38,
      "outputs": [
        {
          "name": "stdout",
          "output_type": "stream",
          "text": [
            "Enter 1st number : 7\n"
          ]
        }
      ]
    },
    {
      "cell_type": "code",
      "metadata": {
        "colab": {
          "base_uri": "https://localhost:8080/"
        },
        "id": "K5nr7JSEYDMv",
        "outputId": "01405cbe-1414-4930-91ef-501eab618088"
      },
      "source": [
        "type(a)"
      ],
      "execution_count": 39,
      "outputs": [
        {
          "output_type": "execute_result",
          "data": {
            "text/plain": [
              "int"
            ]
          },
          "metadata": {},
          "execution_count": 39
        }
      ]
    },
    {
      "cell_type": "code",
      "metadata": {
        "colab": {
          "base_uri": "https://localhost:8080/"
        },
        "id": "wO4XIWftYMcv",
        "outputId": "b9c6b0ef-6605-4f0c-f3c8-efbff7997e56"
      },
      "source": [
        "b = int(input(\"Enter 2nd number : \"))"
      ],
      "execution_count": 40,
      "outputs": [
        {
          "name": "stdout",
          "output_type": "stream",
          "text": [
            "Enter 2nd number : 9\n"
          ]
        }
      ]
    },
    {
      "cell_type": "code",
      "metadata": {
        "colab": {
          "base_uri": "https://localhost:8080/"
        },
        "id": "caK_JZZwYQQd",
        "outputId": "e2d8937c-aa84-45c2-b2bd-b74110685ee0"
      },
      "source": [
        "type(b)"
      ],
      "execution_count": 41,
      "outputs": [
        {
          "output_type": "execute_result",
          "data": {
            "text/plain": [
              "int"
            ]
          },
          "metadata": {},
          "execution_count": 41
        }
      ]
    },
    {
      "cell_type": "code",
      "metadata": {
        "colab": {
          "base_uri": "https://localhost:8080/"
        },
        "id": "XSgYUOOTYR7I",
        "outputId": "eb5776b9-b347-46f3-8216-f0564d3e33de"
      },
      "source": [
        "a+b"
      ],
      "execution_count": 42,
      "outputs": [
        {
          "output_type": "execute_result",
          "data": {
            "text/plain": [
              "16"
            ]
          },
          "metadata": {},
          "execution_count": 42
        }
      ]
    },
    {
      "cell_type": "code",
      "metadata": {
        "colab": {
          "base_uri": "https://localhost:8080/"
        },
        "id": "aeRqqY6bYTgD",
        "outputId": "3e7b9831-47be-4738-8275-4abd0a53e297"
      },
      "source": [
        "a-b"
      ],
      "execution_count": 43,
      "outputs": [
        {
          "output_type": "execute_result",
          "data": {
            "text/plain": [
              "-2"
            ]
          },
          "metadata": {},
          "execution_count": 43
        }
      ]
    },
    {
      "cell_type": "code",
      "metadata": {
        "colab": {
          "base_uri": "https://localhost:8080/"
        },
        "id": "X0kKlCoqYY-1",
        "outputId": "6fc45b76-f053-49ba-b772-289b74721e6d"
      },
      "source": [
        "b-a"
      ],
      "execution_count": 44,
      "outputs": [
        {
          "output_type": "execute_result",
          "data": {
            "text/plain": [
              "2"
            ]
          },
          "metadata": {},
          "execution_count": 44
        }
      ]
    },
    {
      "cell_type": "code",
      "metadata": {
        "colab": {
          "base_uri": "https://localhost:8080/"
        },
        "id": "8_FL5GV_YaYL",
        "outputId": "6232ccf8-8e3b-404a-c9df-e7772ed4bd47"
      },
      "source": [
        "a*b"
      ],
      "execution_count": 45,
      "outputs": [
        {
          "output_type": "execute_result",
          "data": {
            "text/plain": [
              "63"
            ]
          },
          "metadata": {},
          "execution_count": 45
        }
      ]
    },
    {
      "cell_type": "code",
      "metadata": {
        "colab": {
          "base_uri": "https://localhost:8080/"
        },
        "id": "5LagNFmgYb5s",
        "outputId": "7ffbec9d-521c-4798-e22e-d610e6284bbd"
      },
      "source": [
        "a/b"
      ],
      "execution_count": 46,
      "outputs": [
        {
          "output_type": "execute_result",
          "data": {
            "text/plain": [
              "0.7777777777777778"
            ]
          },
          "metadata": {},
          "execution_count": 46
        }
      ]
    },
    {
      "cell_type": "code",
      "metadata": {
        "colab": {
          "base_uri": "https://localhost:8080/"
        },
        "id": "UWrgIBDuYdLF",
        "outputId": "35faba3f-c35e-4995-f193-52625ca8b521"
      },
      "source": [
        "b/a"
      ],
      "execution_count": 47,
      "outputs": [
        {
          "output_type": "execute_result",
          "data": {
            "text/plain": [
              "1.2857142857142858"
            ]
          },
          "metadata": {},
          "execution_count": 47
        }
      ]
    },
    {
      "cell_type": "code",
      "metadata": {
        "colab": {
          "base_uri": "https://localhost:8080/"
        },
        "id": "6G4UI0yVYfXC",
        "outputId": "cef3922c-f486-424a-9dc4-918583c2a12a"
      },
      "source": [
        "a // b"
      ],
      "execution_count": 48,
      "outputs": [
        {
          "output_type": "execute_result",
          "data": {
            "text/plain": [
              "0"
            ]
          },
          "metadata": {},
          "execution_count": 48
        }
      ]
    },
    {
      "cell_type": "code",
      "metadata": {
        "colab": {
          "base_uri": "https://localhost:8080/"
        },
        "id": "LlU38ARvYqRK",
        "outputId": "e8dbadeb-f583-4e43-f457-922e80d80eff"
      },
      "source": [
        "b//a"
      ],
      "execution_count": 49,
      "outputs": [
        {
          "output_type": "execute_result",
          "data": {
            "text/plain": [
              "1"
            ]
          },
          "metadata": {},
          "execution_count": 49
        }
      ]
    },
    {
      "cell_type": "code",
      "metadata": {
        "colab": {
          "base_uri": "https://localhost:8080/"
        },
        "id": "ImHVVq5NYuN4",
        "outputId": "f63da3dd-20c9-42f8-f299-9a0a648bd433"
      },
      "source": [
        "a % b"
      ],
      "execution_count": 50,
      "outputs": [
        {
          "output_type": "execute_result",
          "data": {
            "text/plain": [
              "7"
            ]
          },
          "metadata": {},
          "execution_count": 50
        }
      ]
    },
    {
      "cell_type": "code",
      "metadata": {
        "colab": {
          "base_uri": "https://localhost:8080/"
        },
        "id": "aOjuY0zSY59u",
        "outputId": "dbeac4f0-cdac-4dd7-bf9d-9dda768bb2b7"
      },
      "source": [
        "b % a"
      ],
      "execution_count": 51,
      "outputs": [
        {
          "output_type": "execute_result",
          "data": {
            "text/plain": [
              "2"
            ]
          },
          "metadata": {},
          "execution_count": 51
        }
      ]
    },
    {
      "cell_type": "code",
      "metadata": {
        "colab": {
          "base_uri": "https://localhost:8080/"
        },
        "id": "wjClAI68Y8yE",
        "outputId": "4d4dfbe9-e16e-47d4-c521-a483d35761d0"
      },
      "source": [
        "ch = input('Enter a char : ') #there is no char datatype in python "
      ],
      "execution_count": 52,
      "outputs": [
        {
          "name": "stdout",
          "output_type": "stream",
          "text": [
            "Enter a char : Pavan\n"
          ]
        }
      ]
    },
    {
      "cell_type": "code",
      "metadata": {
        "colab": {
          "base_uri": "https://localhost:8080/"
        },
        "id": "Ud6SFcdhZjNJ",
        "outputId": "50a544b7-63db-482f-c283-4e5956a5daae"
      },
      "source": [
        "type(ch)"
      ],
      "execution_count": 53,
      "outputs": [
        {
          "output_type": "execute_result",
          "data": {
            "text/plain": [
              "str"
            ]
          },
          "metadata": {},
          "execution_count": 53
        }
      ]
    },
    {
      "cell_type": "code",
      "metadata": {
        "colab": {
          "base_uri": "https://localhost:8080/"
        },
        "id": "-vd5NjQMZm_o",
        "outputId": "a793929a-f3de-4e41-ce26-a917837162d5"
      },
      "source": [
        "print(ch[0])  #indexing / extracting characters from the string "
      ],
      "execution_count": 54,
      "outputs": [
        {
          "output_type": "stream",
          "name": "stdout",
          "text": [
            "P\n"
          ]
        }
      ]
    },
    {
      "cell_type": "code",
      "metadata": {
        "colab": {
          "base_uri": "https://localhost:8080/"
        },
        "id": "VQ9C3ExAaEdt",
        "outputId": "d3bc2ba2-ff47-4ae2-d1ad-0b2c7b35bed4"
      },
      "source": [
        "#eval keyword (EVALUATE)\n",
        "result = eval(input('Enter an Expression : '))\n",
        "print(result)"
      ],
      "execution_count": 55,
      "outputs": [
        {
          "output_type": "stream",
          "name": "stdout",
          "text": [
            "Enter an Expression : 7+9-5\n",
            "11\n"
          ]
        }
      ]
    },
    {
      "cell_type": "code",
      "metadata": {
        "colab": {
          "base_uri": "https://localhost:8080/"
        },
        "id": "jkwdg39Va6lW",
        "outputId": "3404887e-aefc-4575-db12-55a012138b4a"
      },
      "source": [
        "2+6-3"
      ],
      "execution_count": 56,
      "outputs": [
        {
          "output_type": "execute_result",
          "data": {
            "text/plain": [
              "5"
            ]
          },
          "metadata": {},
          "execution_count": 56
        }
      ]
    },
    {
      "cell_type": "code",
      "metadata": {
        "id": "TDvnvcMrbBkq"
      },
      "source": [
        "a = 'Pavan'"
      ],
      "execution_count": 57,
      "outputs": []
    },
    {
      "cell_type": "code",
      "metadata": {
        "colab": {
          "base_uri": "https://localhost:8080/"
        },
        "id": "H-LNTKD0an3d",
        "outputId": "7ed6e01f-7335-44af-b262-826960c6a960"
      },
      "source": [
        "type(a)"
      ],
      "execution_count": 58,
      "outputs": [
        {
          "output_type": "execute_result",
          "data": {
            "text/plain": [
              "str"
            ]
          },
          "metadata": {},
          "execution_count": 58
        }
      ]
    },
    {
      "cell_type": "code",
      "metadata": {
        "colab": {
          "base_uri": "https://localhost:8080/"
        },
        "id": "AxfZpNUubcIY",
        "outputId": "2398767e-c309-473b-cc5f-ccb825c54532"
      },
      "source": [
        "#string concatenation \n",
        "p = 'Pavan' + ' Kumar Reddy'\n",
        "print(p)"
      ],
      "execution_count": 59,
      "outputs": [
        {
          "output_type": "stream",
          "name": "stdout",
          "text": [
            "Pavan Kumar Reddy\n"
          ]
        }
      ]
    },
    {
      "cell_type": "code",
      "metadata": {
        "colab": {
          "base_uri": "https://localhost:8080/",
          "height": 35
        },
        "id": "BIOVgtXEbjmV",
        "outputId": "aa322d2b-444a-4e8a-adfb-c64135796d00"
      },
      "source": [
        "'Pavan ' * 10 #repeats this string 10 times "
      ],
      "execution_count": 60,
      "outputs": [
        {
          "output_type": "execute_result",
          "data": {
            "application/vnd.google.colaboratory.intrinsic+json": {
              "type": "string"
            },
            "text/plain": [
              "'Pavan Pavan Pavan Pavan Pavan Pavan Pavan Pavan Pavan Pavan '"
            ]
          },
          "metadata": {},
          "execution_count": 60
        }
      ]
    },
    {
      "cell_type": "code",
      "metadata": {
        "colab": {
          "base_uri": "https://localhost:8080/",
          "height": 35
        },
        "id": "vrcdZyCWb1F0",
        "outputId": "ef208b71-3a10-4e7b-ead9-f66101f33bee"
      },
      "source": [
        "p[-2] #negative indexing "
      ],
      "execution_count": 61,
      "outputs": [
        {
          "output_type": "execute_result",
          "data": {
            "application/vnd.google.colaboratory.intrinsic+json": {
              "type": "string"
            },
            "text/plain": [
              "'d'"
            ]
          },
          "metadata": {},
          "execution_count": 61
        }
      ]
    },
    {
      "cell_type": "code",
      "metadata": {
        "id": "x9bnYXn1cFDs"
      },
      "source": [
        "a = 'Pavan'"
      ],
      "execution_count": 62,
      "outputs": []
    },
    {
      "cell_type": "code",
      "metadata": {
        "colab": {
          "base_uri": "https://localhost:8080/",
          "height": 35
        },
        "id": "Yxd52lb8cQ5T",
        "outputId": "5271c19f-59b9-4d2d-aab7-1b879b6b6061"
      },
      "source": [
        "a + ' Kumar Reddy'"
      ],
      "execution_count": 63,
      "outputs": [
        {
          "output_type": "execute_result",
          "data": {
            "application/vnd.google.colaboratory.intrinsic+json": {
              "type": "string"
            },
            "text/plain": [
              "'Pavan Kumar Reddy'"
            ]
          },
          "metadata": {},
          "execution_count": 63
        }
      ]
    },
    {
      "cell_type": "code",
      "metadata": {
        "colab": {
          "base_uri": "https://localhost:8080/"
        },
        "id": "Qm8Y7JGycSvi",
        "outputId": "8982de54-f178-48c3-9372-fae180f80c0f"
      },
      "source": [
        "#\\n means new line \n",
        "print('C:users\\newfolder')\n",
        "print(\"\")\n",
        "print(r\"C:users\\newfolder\")  #raw string /actual string /a string which stops python from converting the string \n",
        "#r(raw string) removes the special meaning of \\n in the code "
      ],
      "execution_count": 64,
      "outputs": [
        {
          "output_type": "stream",
          "name": "stdout",
          "text": [
            "C:users\n",
            "ewfolder\n",
            "\n",
            "C:users\\newfolder\n"
          ]
        }
      ]
    },
    {
      "cell_type": "markdown",
      "metadata": {
        "id": "n0ZviSKTPdaM"
      },
      "source": [
        "# If, Else Statements"
      ]
    },
    {
      "cell_type": "markdown",
      "metadata": {
        "id": "V-YzvSUCPQc_"
      },
      "source": [
        "### Checking the Given Number is Even or Odd"
      ]
    },
    {
      "cell_type": "code",
      "metadata": {
        "colab": {
          "base_uri": "https://localhost:8080/"
        },
        "id": "qvxf519pdUrD",
        "outputId": "8e8414c7-515b-4c68-d281-b0e00313bce0"
      },
      "source": [
        "#PROGRAM TO CHECK IF A NUMBER IS EVEN OR ODD\n",
        "a = 6\n",
        "if(a % 2 == 0):\n",
        "  print('Number is Even')\n",
        "if(a%2 != 0):\n",
        "  print('Number is Odd')    "
      ],
      "execution_count": 65,
      "outputs": [
        {
          "output_type": "stream",
          "name": "stdout",
          "text": [
            "Number is Even\n"
          ]
        }
      ]
    },
    {
      "cell_type": "code",
      "metadata": {
        "colab": {
          "base_uri": "https://localhost:8080/"
        },
        "id": "p2oDDA21fcVj",
        "outputId": "6eb8d19f-7ac0-4771-f487-c57d9b80f946"
      },
      "source": [
        "#PROGRAM TO CHECK IF A NUMBER IS EVEN OR ODD\n",
        "a = 3\n",
        "if(a % 2 == 0):\n",
        "  print('Number is Even')\n",
        "else:\n",
        "  print('Number is Odd')    "
      ],
      "execution_count": 66,
      "outputs": [
        {
          "output_type": "stream",
          "name": "stdout",
          "text": [
            "Number is Odd\n"
          ]
        }
      ]
    },
    {
      "cell_type": "code",
      "metadata": {
        "colab": {
          "base_uri": "https://localhost:8080/"
        },
        "id": "gJbJhM3EhKIf",
        "outputId": "c2ce8886-8ecf-4589-e8f1-fa0f22baad95"
      },
      "source": [
        "#INTEGER I/P\n",
        "a = int(input('Enter a number : '))\n",
        "if(a % 2 == 0):\n",
        "  print('Number is Even')\n",
        "else:\n",
        "  print('Number is Odd')    "
      ],
      "execution_count": 67,
      "outputs": [
        {
          "output_type": "stream",
          "name": "stdout",
          "text": [
            "Enter a number : 7\n",
            "Number is Odd\n"
          ]
        }
      ]
    },
    {
      "cell_type": "code",
      "metadata": {
        "colab": {
          "base_uri": "https://localhost:8080/"
        },
        "id": "WD91OxdifmqU",
        "outputId": "ab686019-c481-4b82-d231-3436da69cf91"
      },
      "source": [
        "#FLOATING POINT INPUT \n",
        "a = float(input('Enter a number : '))\n",
        "if(a % 2 == 0):\n",
        "  print('Number is Even')\n",
        "else:\n",
        "  print('Number is Odd')    "
      ],
      "execution_count": 68,
      "outputs": [
        {
          "output_type": "stream",
          "name": "stdout",
          "text": [
            "Enter a number : 2.0\n",
            "Number is Even\n"
          ]
        }
      ]
    },
    {
      "cell_type": "code",
      "metadata": {
        "colab": {
          "base_uri": "https://localhost:8080/"
        },
        "id": "-H4WWu9ffzrc",
        "outputId": "44aabf7f-bb32-4e2b-a598-8deb4e9cd603"
      },
      "source": [
        "#FORMATTED STRINGS\n",
        "a = int(input(\"No. 1 :\"))\n",
        "b =int(input(\"No. 2 :\"))\n",
        "c = a+b\n",
        "print(c)\n",
        "print(f'the sum of {a} and {b} is equal to {c}') #formatted strings "
      ],
      "execution_count": 69,
      "outputs": [
        {
          "output_type": "stream",
          "name": "stdout",
          "text": [
            "No. 1 :7\n",
            "No. 2 :9\n",
            "16\n",
            "the sum of 7 and 9 is equal to 16\n"
          ]
        }
      ]
    },
    {
      "cell_type": "code",
      "metadata": {
        "colab": {
          "base_uri": "https://localhost:8080/"
        },
        "id": "baIcPhB2gIsO",
        "outputId": "72583bbd-9044-423b-e24a-e4e894ea46e0"
      },
      "source": [
        "a = int(input('Enter the age:'))\n",
        "if (a>=18):\n",
        "  print(\"Eligible to vote\")\n",
        "else:\n",
        "  print(\"Not eligible to vote\")  \n",
        "  print(\"Eligible to vote after \" +str(18-a)+ \" years!\") #string concatentation "
      ],
      "execution_count": 70,
      "outputs": [
        {
          "output_type": "stream",
          "name": "stdout",
          "text": [
            "Enter the age:16\n",
            "Not eligible to vote\n",
            "Eligible to vote after 2 years!\n"
          ]
        }
      ]
    },
    {
      "cell_type": "code",
      "metadata": {
        "colab": {
          "base_uri": "https://localhost:8080/"
        },
        "id": "0T3oOMlngxDh",
        "outputId": "b6ab6619-de2c-418e-de32-79e953ae3bc9"
      },
      "source": [
        "a = input('Enter the weather condition :')\n",
        "a = a.lower()\n",
        "if (a == 'summer'):\n",
        "  print('Summer season')\n",
        "elif (a == 'winter'):\n",
        "  print('Winter season') \n",
        "elif (a == 'monsoon'):\n",
        "  print('Monsoon season')\n",
        "else:\n",
        "  print('Invalid input')"
      ],
      "execution_count": 71,
      "outputs": [
        {
          "output_type": "stream",
          "name": "stdout",
          "text": [
            "Enter the weather condition :Summer\n",
            "Summer season\n"
          ]
        }
      ]
    },
    {
      "cell_type": "code",
      "metadata": {
        "colab": {
          "base_uri": "https://localhost:8080/"
        },
        "id": "EseaSIcLiasT",
        "outputId": "b0c497c4-b803-486c-b74c-d3adba10d687"
      },
      "source": [
        "#Square of a number\n",
        "a = int(input('Enter a number :'))\n",
        "square = a*a\n",
        "print(square)"
      ],
      "execution_count": 72,
      "outputs": [
        {
          "output_type": "stream",
          "name": "stdout",
          "text": [
            "Enter a number :7\n",
            "49\n"
          ]
        }
      ]
    }
  ]
}